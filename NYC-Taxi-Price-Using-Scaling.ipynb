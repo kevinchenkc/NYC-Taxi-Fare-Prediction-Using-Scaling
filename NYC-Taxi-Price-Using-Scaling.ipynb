{
 "cells": [
  {
   "cell_type": "markdown",
   "metadata": {},
   "source": [
    "# TAXI PRICE PREDICTION\n",
    "## USING RIDGE/LASSO/ELASTICNET & SCALING\n",
    "[![taxi](https://github.com/kevinchenkc/NYC-Taxi-Fare-Prediction-Using-Scaling/blob/main/new-york-city-tlc-taxi-stock1_2040.0.jpg?raw=True)](https://www.theverge.com/2018/8/1/17639656/uber-lyft-bailout-nyc-taxi-drivers-cap)"
   ]
  },
  {
   "cell_type": "markdown",
   "metadata": {},
   "source": [
    "<hr>\n",
    "\n",
    "## 1. Data Understanding and Data Wrangling"
   ]
  },
  {
   "cell_type": "code",
   "execution_count": 1,
   "metadata": {},
   "outputs": [],
   "source": [
    "## Import Package\n",
    "import pandas as pd\n",
    "import numpy as np\n",
    "import matplotlib.pyplot as plt\n",
    "import seaborn as sns\n",
    "import warnings\n",
    "warnings.filterwarnings(\"ignore\")"
   ]
  },
  {
   "cell_type": "markdown",
   "metadata": {},
   "source": [
    "Dataset source: [Kaggle](https://www.kaggle.com/code/breemen/nyc-taxi-fare-data-exploration)"
   ]
  },
  {
   "cell_type": "code",
   "execution_count": 2,
   "metadata": {},
   "outputs": [
    {
     "data": {
      "text/html": [
       "<div>\n",
       "<style scoped>\n",
       "    .dataframe tbody tr th:only-of-type {\n",
       "        vertical-align: middle;\n",
       "    }\n",
       "\n",
       "    .dataframe tbody tr th {\n",
       "        vertical-align: top;\n",
       "    }\n",
       "\n",
       "    .dataframe thead th {\n",
       "        text-align: right;\n",
       "    }\n",
       "</style>\n",
       "<table border=\"1\" class=\"dataframe\">\n",
       "  <thead>\n",
       "    <tr style=\"text-align: right;\">\n",
       "      <th></th>\n",
       "      <th>fare_amount</th>\n",
       "      <th>pickup_datetime</th>\n",
       "      <th>pickup_longitude</th>\n",
       "      <th>pickup_latitude</th>\n",
       "      <th>dropoff_longitude</th>\n",
       "      <th>dropoff_latitude</th>\n",
       "      <th>passenger_count</th>\n",
       "    </tr>\n",
       "  </thead>\n",
       "  <tbody>\n",
       "    <tr>\n",
       "      <th>0</th>\n",
       "      <td>4.5</td>\n",
       "      <td>2009-06-15 17:26:21</td>\n",
       "      <td>-73.844311</td>\n",
       "      <td>40.721319</td>\n",
       "      <td>-73.841610</td>\n",
       "      <td>40.712278</td>\n",
       "      <td>1.0</td>\n",
       "    </tr>\n",
       "    <tr>\n",
       "      <th>1</th>\n",
       "      <td>16.9</td>\n",
       "      <td>2010-01-05 16:52:16</td>\n",
       "      <td>-74.016048</td>\n",
       "      <td>40.711303</td>\n",
       "      <td>-73.979268</td>\n",
       "      <td>40.782004</td>\n",
       "      <td>1.0</td>\n",
       "    </tr>\n",
       "    <tr>\n",
       "      <th>2</th>\n",
       "      <td>5.7</td>\n",
       "      <td>2011-08-18 00:35:00</td>\n",
       "      <td>-73.982738</td>\n",
       "      <td>40.761270</td>\n",
       "      <td>-73.991242</td>\n",
       "      <td>40.750562</td>\n",
       "      <td>2.0</td>\n",
       "    </tr>\n",
       "    <tr>\n",
       "      <th>3</th>\n",
       "      <td>7.7</td>\n",
       "      <td>2012-04-21 04:30:42</td>\n",
       "      <td>-73.987130</td>\n",
       "      <td>40.733143</td>\n",
       "      <td>-73.991567</td>\n",
       "      <td>40.758092</td>\n",
       "      <td>1.0</td>\n",
       "    </tr>\n",
       "    <tr>\n",
       "      <th>4</th>\n",
       "      <td>5.3</td>\n",
       "      <td>2010-03-09 07:51:00</td>\n",
       "      <td>-73.968095</td>\n",
       "      <td>40.768008</td>\n",
       "      <td>-73.956655</td>\n",
       "      <td>40.783762</td>\n",
       "      <td>1.0</td>\n",
       "    </tr>\n",
       "  </tbody>\n",
       "</table>\n",
       "</div>"
      ],
      "text/plain": [
       "   fare_amount      pickup_datetime  pickup_longitude  pickup_latitude  \\\n",
       "0          4.5  2009-06-15 17:26:21        -73.844311        40.721319   \n",
       "1         16.9  2010-01-05 16:52:16        -74.016048        40.711303   \n",
       "2          5.7  2011-08-18 00:35:00        -73.982738        40.761270   \n",
       "3          7.7  2012-04-21 04:30:42        -73.987130        40.733143   \n",
       "4          5.3  2010-03-09 07:51:00        -73.968095        40.768008   \n",
       "\n",
       "   dropoff_longitude  dropoff_latitude  passenger_count  \n",
       "0         -73.841610         40.712278              1.0  \n",
       "1         -73.979268         40.782004              1.0  \n",
       "2         -73.991242         40.750562              2.0  \n",
       "3         -73.991567         40.758092              1.0  \n",
       "4         -73.956655         40.783762              1.0  "
      ]
     },
     "execution_count": 2,
     "metadata": {},
     "output_type": "execute_result"
    }
   ],
   "source": [
    "## Import Data\n",
    "df=pd.read_csv('taxi.csv')\n",
    "df.head()"
   ]
  },
  {
   "cell_type": "code",
   "execution_count": 3,
   "metadata": {},
   "outputs": [
    {
     "data": {
      "text/plain": [
       "fare_amount          0\n",
       "pickup_datetime      0\n",
       "pickup_longitude     0\n",
       "pickup_latitude      0\n",
       "dropoff_longitude    0\n",
       "dropoff_latitude     0\n",
       "passenger_count      1\n",
       "dtype: int64"
      ]
     },
     "execution_count": 3,
     "metadata": {},
     "output_type": "execute_result"
    }
   ],
   "source": [
    "## Check Missing Value\n",
    "df.isna().sum()\n",
    "## Result: 1 missing value on passenger_count"
   ]
  },
  {
   "cell_type": "code",
   "execution_count": 4,
   "metadata": {},
   "outputs": [
    {
     "name": "stdout",
     "output_type": "stream",
     "text": [
      "<class 'pandas.core.frame.DataFrame'>\n",
      "RangeIndex: 18919 entries, 0 to 18918\n",
      "Data columns (total 7 columns):\n",
      " #   Column             Non-Null Count  Dtype  \n",
      "---  ------             --------------  -----  \n",
      " 0   fare_amount        18919 non-null  float64\n",
      " 1   pickup_datetime    18919 non-null  object \n",
      " 2   pickup_longitude   18919 non-null  float64\n",
      " 3   pickup_latitude    18919 non-null  float64\n",
      " 4   dropoff_longitude  18919 non-null  float64\n",
      " 5   dropoff_latitude   18919 non-null  float64\n",
      " 6   passenger_count    18918 non-null  float64\n",
      "dtypes: float64(6), object(1)\n",
      "memory usage: 1.0+ MB\n"
     ]
    }
   ],
   "source": [
    "## Double Check for Missing Value\n",
    "df.info()\n",
    "## Result: Confirmed 1 missing value on passenger_count"
   ]
  },
  {
   "cell_type": "code",
   "execution_count": 5,
   "metadata": {},
   "outputs": [],
   "source": [
    "## Handling Missing Value\n",
    "df.dropna(inplace=True)\n"
   ]
  },
  {
   "cell_type": "code",
   "execution_count": 6,
   "metadata": {},
   "outputs": [
    {
     "data": {
      "text/plain": [
       "fare_amount          float64\n",
       "pickup_datetime       object\n",
       "pickup_longitude     float64\n",
       "pickup_latitude      float64\n",
       "dropoff_longitude    float64\n",
       "dropoff_latitude     float64\n",
       "passenger_count      float64\n",
       "dtype: object"
      ]
     },
     "execution_count": 6,
     "metadata": {},
     "output_type": "execute_result"
    }
   ],
   "source": [
    "## Define Data Type per Column\n",
    "df.dtypes\n",
    "## Result: 6 out of 7 columns are numeric, only pickup_datetime is object (need to be converted into datetime type)"
   ]
  },
  {
   "cell_type": "code",
   "execution_count": 7,
   "metadata": {},
   "outputs": [
    {
     "data": {
      "text/plain": [
       "fare_amount                 float64\n",
       "pickup_datetime      datetime64[ns]\n",
       "pickup_longitude            float64\n",
       "pickup_latitude             float64\n",
       "dropoff_longitude           float64\n",
       "dropoff_latitude            float64\n",
       "passenger_count             float64\n",
       "dtype: object"
      ]
     },
     "execution_count": 7,
     "metadata": {},
     "output_type": "execute_result"
    }
   ],
   "source": [
    "## Data Type Conversion\n",
    "df['pickup_datetime']=pd.to_datetime(df['pickup_datetime'])\n",
    "\n",
    "## Confirm Conversion Result\n",
    "df.dtypes\n",
    "## Result: pickup_datetime column has been converted into datetime type"
   ]
  },
  {
   "cell_type": "code",
   "execution_count": 8,
   "metadata": {},
   "outputs": [
    {
     "data": {
      "text/html": [
       "<div>\n",
       "<style scoped>\n",
       "    .dataframe tbody tr th:only-of-type {\n",
       "        vertical-align: middle;\n",
       "    }\n",
       "\n",
       "    .dataframe tbody tr th {\n",
       "        vertical-align: top;\n",
       "    }\n",
       "\n",
       "    .dataframe thead th {\n",
       "        text-align: right;\n",
       "    }\n",
       "</style>\n",
       "<table border=\"1\" class=\"dataframe\">\n",
       "  <thead>\n",
       "    <tr style=\"text-align: right;\">\n",
       "      <th></th>\n",
       "      <th>fare_amount</th>\n",
       "      <th>pickup_longitude</th>\n",
       "      <th>pickup_latitude</th>\n",
       "      <th>dropoff_longitude</th>\n",
       "      <th>dropoff_latitude</th>\n",
       "      <th>passenger_count</th>\n",
       "    </tr>\n",
       "  </thead>\n",
       "  <tbody>\n",
       "    <tr>\n",
       "      <th>count</th>\n",
       "      <td>18918.000000</td>\n",
       "      <td>18918.000000</td>\n",
       "      <td>18918.000000</td>\n",
       "      <td>18918.000000</td>\n",
       "      <td>18918.000000</td>\n",
       "      <td>18918.000000</td>\n",
       "    </tr>\n",
       "    <tr>\n",
       "      <th>mean</th>\n",
       "      <td>11.289221</td>\n",
       "      <td>-72.486834</td>\n",
       "      <td>39.925272</td>\n",
       "      <td>-72.498734</td>\n",
       "      <td>39.913116</td>\n",
       "      <td>1.657205</td>\n",
       "    </tr>\n",
       "    <tr>\n",
       "      <th>std</th>\n",
       "      <td>9.551667</td>\n",
       "      <td>10.503808</td>\n",
       "      <td>6.715228</td>\n",
       "      <td>10.461670</td>\n",
       "      <td>6.160671</td>\n",
       "      <td>1.282236</td>\n",
       "    </tr>\n",
       "    <tr>\n",
       "      <th>min</th>\n",
       "      <td>-3.000000</td>\n",
       "      <td>-74.438233</td>\n",
       "      <td>-74.006893</td>\n",
       "      <td>-84.654241</td>\n",
       "      <td>-74.006377</td>\n",
       "      <td>0.000000</td>\n",
       "    </tr>\n",
       "    <tr>\n",
       "      <th>25%</th>\n",
       "      <td>6.000000</td>\n",
       "      <td>-73.992223</td>\n",
       "      <td>40.734687</td>\n",
       "      <td>-73.991233</td>\n",
       "      <td>40.734589</td>\n",
       "      <td>1.000000</td>\n",
       "    </tr>\n",
       "    <tr>\n",
       "      <th>50%</th>\n",
       "      <td>8.500000</td>\n",
       "      <td>-73.981758</td>\n",
       "      <td>40.752620</td>\n",
       "      <td>-73.980234</td>\n",
       "      <td>40.753566</td>\n",
       "      <td>1.000000</td>\n",
       "    </tr>\n",
       "    <tr>\n",
       "      <th>75%</th>\n",
       "      <td>12.500000</td>\n",
       "      <td>-73.966788</td>\n",
       "      <td>40.767427</td>\n",
       "      <td>-73.963834</td>\n",
       "      <td>40.768067</td>\n",
       "      <td>2.000000</td>\n",
       "    </tr>\n",
       "    <tr>\n",
       "      <th>max</th>\n",
       "      <td>180.000000</td>\n",
       "      <td>40.766125</td>\n",
       "      <td>401.083332</td>\n",
       "      <td>40.802437</td>\n",
       "      <td>41.366138</td>\n",
       "      <td>6.000000</td>\n",
       "    </tr>\n",
       "  </tbody>\n",
       "</table>\n",
       "</div>"
      ],
      "text/plain": [
       "        fare_amount  pickup_longitude  pickup_latitude  dropoff_longitude  \\\n",
       "count  18918.000000      18918.000000     18918.000000       18918.000000   \n",
       "mean      11.289221        -72.486834        39.925272         -72.498734   \n",
       "std        9.551667         10.503808         6.715228          10.461670   \n",
       "min       -3.000000        -74.438233       -74.006893         -84.654241   \n",
       "25%        6.000000        -73.992223        40.734687         -73.991233   \n",
       "50%        8.500000        -73.981758        40.752620         -73.980234   \n",
       "75%       12.500000        -73.966788        40.767427         -73.963834   \n",
       "max      180.000000         40.766125       401.083332          40.802437   \n",
       "\n",
       "       dropoff_latitude  passenger_count  \n",
       "count      18918.000000     18918.000000  \n",
       "mean          39.913116         1.657205  \n",
       "std            6.160671         1.282236  \n",
       "min          -74.006377         0.000000  \n",
       "25%           40.734589         1.000000  \n",
       "50%           40.753566         1.000000  \n",
       "75%           40.768067         2.000000  \n",
       "max           41.366138         6.000000  "
      ]
     },
     "execution_count": 8,
     "metadata": {},
     "output_type": "execute_result"
    }
   ],
   "source": [
    "## Describe Data\n",
    "df.describe()"
   ]
  },
  {
   "cell_type": "markdown",
   "metadata": {},
   "source": [
    "<hr>\n",
    "\n",
    "## 2. Data Preparation"
   ]
  },
  {
   "cell_type": "code",
   "execution_count": 9,
   "metadata": {},
   "outputs": [
    {
     "data": {
      "text/html": [
       "<div>\n",
       "<style scoped>\n",
       "    .dataframe tbody tr th:only-of-type {\n",
       "        vertical-align: middle;\n",
       "    }\n",
       "\n",
       "    .dataframe tbody tr th {\n",
       "        vertical-align: top;\n",
       "    }\n",
       "\n",
       "    .dataframe thead th {\n",
       "        text-align: right;\n",
       "    }\n",
       "</style>\n",
       "<table border=\"1\" class=\"dataframe\">\n",
       "  <thead>\n",
       "    <tr style=\"text-align: right;\">\n",
       "      <th></th>\n",
       "      <th>fare_amount</th>\n",
       "      <th>pickup_datetime</th>\n",
       "      <th>pickup_longitude</th>\n",
       "      <th>pickup_latitude</th>\n",
       "      <th>dropoff_longitude</th>\n",
       "      <th>dropoff_latitude</th>\n",
       "      <th>passenger_count</th>\n",
       "    </tr>\n",
       "  </thead>\n",
       "  <tbody>\n",
       "    <tr>\n",
       "      <th>0</th>\n",
       "      <td>4.5</td>\n",
       "      <td>2009-06-15 17:26:21</td>\n",
       "      <td>-73.844311</td>\n",
       "      <td>40.721319</td>\n",
       "      <td>-73.841610</td>\n",
       "      <td>40.712278</td>\n",
       "      <td>1.0</td>\n",
       "    </tr>\n",
       "    <tr>\n",
       "      <th>1</th>\n",
       "      <td>16.9</td>\n",
       "      <td>2010-01-05 16:52:16</td>\n",
       "      <td>-74.016048</td>\n",
       "      <td>40.711303</td>\n",
       "      <td>-73.979268</td>\n",
       "      <td>40.782004</td>\n",
       "      <td>1.0</td>\n",
       "    </tr>\n",
       "    <tr>\n",
       "      <th>2</th>\n",
       "      <td>5.7</td>\n",
       "      <td>2011-08-18 00:35:00</td>\n",
       "      <td>-73.982738</td>\n",
       "      <td>40.761270</td>\n",
       "      <td>-73.991242</td>\n",
       "      <td>40.750562</td>\n",
       "      <td>2.0</td>\n",
       "    </tr>\n",
       "    <tr>\n",
       "      <th>3</th>\n",
       "      <td>7.7</td>\n",
       "      <td>2012-04-21 04:30:42</td>\n",
       "      <td>-73.987130</td>\n",
       "      <td>40.733143</td>\n",
       "      <td>-73.991567</td>\n",
       "      <td>40.758092</td>\n",
       "      <td>1.0</td>\n",
       "    </tr>\n",
       "    <tr>\n",
       "      <th>4</th>\n",
       "      <td>5.3</td>\n",
       "      <td>2010-03-09 07:51:00</td>\n",
       "      <td>-73.968095</td>\n",
       "      <td>40.768008</td>\n",
       "      <td>-73.956655</td>\n",
       "      <td>40.783762</td>\n",
       "      <td>1.0</td>\n",
       "    </tr>\n",
       "  </tbody>\n",
       "</table>\n",
       "</div>"
      ],
      "text/plain": [
       "   fare_amount     pickup_datetime  pickup_longitude  pickup_latitude  \\\n",
       "0          4.5 2009-06-15 17:26:21        -73.844311        40.721319   \n",
       "1         16.9 2010-01-05 16:52:16        -74.016048        40.711303   \n",
       "2          5.7 2011-08-18 00:35:00        -73.982738        40.761270   \n",
       "3          7.7 2012-04-21 04:30:42        -73.987130        40.733143   \n",
       "4          5.3 2010-03-09 07:51:00        -73.968095        40.768008   \n",
       "\n",
       "   dropoff_longitude  dropoff_latitude  passenger_count  \n",
       "0         -73.841610         40.712278              1.0  \n",
       "1         -73.979268         40.782004              1.0  \n",
       "2         -73.991242         40.750562              2.0  \n",
       "3         -73.991567         40.758092              1.0  \n",
       "4         -73.956655         40.783762              1.0  "
      ]
     },
     "execution_count": 9,
     "metadata": {},
     "output_type": "execute_result"
    }
   ],
   "source": [
    "## Describe columns\n",
    "df.head()\n",
    "## Insight: We only had information about fare amount, time, location and passenger count.\n",
    "### Therefore, we need to additional features from the current feature to help us doing better analysis."
   ]
  },
  {
   "cell_type": "markdown",
   "metadata": {},
   "source": [
    "### 2.1 Adding Features - Features Extraction\n",
    "    - Range (simplified)\n",
    "    - Year\n",
    "    - Month\n",
    "    - Day\n",
    "    - Hour"
   ]
  },
  {
   "cell_type": "markdown",
   "metadata": {},
   "source": [
    "#### 2.1.1 Add Journey Range Information (pickup to dropoff)\n"
   ]
  },
  {
   "cell_type": "code",
   "execution_count": 10,
   "metadata": {},
   "outputs": [],
   "source": [
    "## Simplified method\n",
    "df['distance']=abs((df['pickup_longitude']-df['dropoff_longitude'])+(df['pickup_latitude']-df['dropoff_latitude']))\n",
    "## We use absolute for this method. In a vector, there are 2 spectrums: to the right (positive) and to the left (negative)\n",
    "### But absolute ignore the condition occured in vector."
   ]
  },
  {
   "cell_type": "code",
   "execution_count": 11,
   "metadata": {},
   "outputs": [],
   "source": [
    "## Drop Original Location Columns\n",
    "df.drop(columns=['pickup_longitude','pickup_latitude','dropoff_longitude','dropoff_latitude'],inplace=True)"
   ]
  },
  {
   "cell_type": "markdown",
   "metadata": {},
   "source": [
    "#### 2.1.2 Extract Time Information from Pick Up Time"
   ]
  },
  {
   "cell_type": "code",
   "execution_count": 12,
   "metadata": {},
   "outputs": [],
   "source": [
    "## Assign datetime function to variable\n",
    "pickup_dt=df['pickup_datetime'].dt"
   ]
  },
  {
   "cell_type": "code",
   "execution_count": 13,
   "metadata": {},
   "outputs": [],
   "source": [
    "## Extract Years\n",
    "df['year']=pickup_dt.year\n",
    "\n",
    "## Extract Month\n",
    "df['month']=pickup_dt.month\n",
    "\n",
    "## Extract Day\n",
    "df['day']=pickup_dt.day\n",
    "\n",
    "## Extract Hours\n",
    "df['hour']=pickup_dt.hour\n",
    "\n",
    "## Drop Original Datetime Column\n",
    "df.drop(columns='pickup_datetime',inplace=True)"
   ]
  },
  {
   "cell_type": "markdown",
   "metadata": {},
   "source": [
    "### 2.2 Show updated DataFrame"
   ]
  },
  {
   "cell_type": "code",
   "execution_count": 14,
   "metadata": {},
   "outputs": [
    {
     "data": {
      "text/html": [
       "<div>\n",
       "<style scoped>\n",
       "    .dataframe tbody tr th:only-of-type {\n",
       "        vertical-align: middle;\n",
       "    }\n",
       "\n",
       "    .dataframe tbody tr th {\n",
       "        vertical-align: top;\n",
       "    }\n",
       "\n",
       "    .dataframe thead th {\n",
       "        text-align: right;\n",
       "    }\n",
       "</style>\n",
       "<table border=\"1\" class=\"dataframe\">\n",
       "  <thead>\n",
       "    <tr style=\"text-align: right;\">\n",
       "      <th></th>\n",
       "      <th>fare_amount</th>\n",
       "      <th>passenger_count</th>\n",
       "      <th>distance</th>\n",
       "      <th>year</th>\n",
       "      <th>month</th>\n",
       "      <th>day</th>\n",
       "      <th>hour</th>\n",
       "    </tr>\n",
       "  </thead>\n",
       "  <tbody>\n",
       "    <tr>\n",
       "      <th>0</th>\n",
       "      <td>4.5</td>\n",
       "      <td>1.0</td>\n",
       "      <td>0.006340</td>\n",
       "      <td>2009</td>\n",
       "      <td>6</td>\n",
       "      <td>15</td>\n",
       "      <td>17</td>\n",
       "    </tr>\n",
       "    <tr>\n",
       "      <th>1</th>\n",
       "      <td>16.9</td>\n",
       "      <td>1.0</td>\n",
       "      <td>0.107481</td>\n",
       "      <td>2010</td>\n",
       "      <td>1</td>\n",
       "      <td>5</td>\n",
       "      <td>16</td>\n",
       "    </tr>\n",
       "    <tr>\n",
       "      <th>2</th>\n",
       "      <td>5.7</td>\n",
       "      <td>2.0</td>\n",
       "      <td>0.019212</td>\n",
       "      <td>2011</td>\n",
       "      <td>8</td>\n",
       "      <td>18</td>\n",
       "      <td>0</td>\n",
       "    </tr>\n",
       "    <tr>\n",
       "      <th>3</th>\n",
       "      <td>7.7</td>\n",
       "      <td>1.0</td>\n",
       "      <td>0.020512</td>\n",
       "      <td>2012</td>\n",
       "      <td>4</td>\n",
       "      <td>21</td>\n",
       "      <td>4</td>\n",
       "    </tr>\n",
       "    <tr>\n",
       "      <th>4</th>\n",
       "      <td>5.3</td>\n",
       "      <td>1.0</td>\n",
       "      <td>0.027194</td>\n",
       "      <td>2010</td>\n",
       "      <td>3</td>\n",
       "      <td>9</td>\n",
       "      <td>7</td>\n",
       "    </tr>\n",
       "  </tbody>\n",
       "</table>\n",
       "</div>"
      ],
      "text/plain": [
       "   fare_amount  passenger_count  distance  year  month  day  hour\n",
       "0          4.5              1.0  0.006340  2009      6   15    17\n",
       "1         16.9              1.0  0.107481  2010      1    5    16\n",
       "2          5.7              2.0  0.019212  2011      8   18     0\n",
       "3          7.7              1.0  0.020512  2012      4   21     4\n",
       "4          5.3              1.0  0.027194  2010      3    9     7"
      ]
     },
     "execution_count": 14,
     "metadata": {},
     "output_type": "execute_result"
    }
   ],
   "source": [
    "df.head()"
   ]
  },
  {
   "cell_type": "markdown",
   "metadata": {},
   "source": [
    "<hr>\n",
    "\n",
    "## 3. Machine Learning"
   ]
  },
  {
   "cell_type": "markdown",
   "metadata": {},
   "source": [
    "### 3.1 Splitting Data"
   ]
  },
  {
   "cell_type": "code",
   "execution_count": 15,
   "metadata": {},
   "outputs": [],
   "source": [
    "## Import package\n",
    "from sklearn.model_selection import train_test_split"
   ]
  },
  {
   "cell_type": "code",
   "execution_count": 16,
   "metadata": {},
   "outputs": [],
   "source": [
    "## Define features and target\n",
    "x=df.drop(columns='fare_amount')\n",
    "y=df['fare_amount']"
   ]
  },
  {
   "cell_type": "code",
   "execution_count": 17,
   "metadata": {},
   "outputs": [],
   "source": [
    "## Split Data with proportion of 85% train : 15% test\n",
    "x_train,x_test,y_train,y_test=train_test_split(x,y,test_size=.15,random_state=42)"
   ]
  },
  {
   "cell_type": "markdown",
   "metadata": {},
   "source": [
    "### 3.2 Machine Learning Modelling"
   ]
  },
  {
   "cell_type": "code",
   "execution_count": 18,
   "metadata": {},
   "outputs": [],
   "source": [
    "## Import package\n",
    "from sklearn.linear_model import LinearRegression,Ridge,Lasso,ElasticNet\n",
    "from sklearn.metrics import r2_score, mean_absolute_error, mean_squared_error"
   ]
  },
  {
   "cell_type": "markdown",
   "metadata": {},
   "source": [
    "#### 3.2.1 Build Model"
   ]
  },
  {
   "cell_type": "code",
   "execution_count": 19,
   "metadata": {},
   "outputs": [],
   "source": [
    "## Build Base Model\n",
    "Model_LR=LinearRegression(fit_intercept=False) # when all features have value of 0, price (target) must be 0 too -> no transactions\n",
    "Model_R=Ridge()\n",
    "Model_L=Lasso()\n",
    "Model_E=ElasticNet()"
   ]
  },
  {
   "cell_type": "code",
   "execution_count": 20,
   "metadata": {},
   "outputs": [
    {
     "data": {
      "text/html": [
       "<style>#sk-container-id-1 {color: black;background-color: white;}#sk-container-id-1 pre{padding: 0;}#sk-container-id-1 div.sk-toggleable {background-color: white;}#sk-container-id-1 label.sk-toggleable__label {cursor: pointer;display: block;width: 100%;margin-bottom: 0;padding: 0.3em;box-sizing: border-box;text-align: center;}#sk-container-id-1 label.sk-toggleable__label-arrow:before {content: \"▸\";float: left;margin-right: 0.25em;color: #696969;}#sk-container-id-1 label.sk-toggleable__label-arrow:hover:before {color: black;}#sk-container-id-1 div.sk-estimator:hover label.sk-toggleable__label-arrow:before {color: black;}#sk-container-id-1 div.sk-toggleable__content {max-height: 0;max-width: 0;overflow: hidden;text-align: left;background-color: #f0f8ff;}#sk-container-id-1 div.sk-toggleable__content pre {margin: 0.2em;color: black;border-radius: 0.25em;background-color: #f0f8ff;}#sk-container-id-1 input.sk-toggleable__control:checked~div.sk-toggleable__content {max-height: 200px;max-width: 100%;overflow: auto;}#sk-container-id-1 input.sk-toggleable__control:checked~label.sk-toggleable__label-arrow:before {content: \"▾\";}#sk-container-id-1 div.sk-estimator input.sk-toggleable__control:checked~label.sk-toggleable__label {background-color: #d4ebff;}#sk-container-id-1 div.sk-label input.sk-toggleable__control:checked~label.sk-toggleable__label {background-color: #d4ebff;}#sk-container-id-1 input.sk-hidden--visually {border: 0;clip: rect(1px 1px 1px 1px);clip: rect(1px, 1px, 1px, 1px);height: 1px;margin: -1px;overflow: hidden;padding: 0;position: absolute;width: 1px;}#sk-container-id-1 div.sk-estimator {font-family: monospace;background-color: #f0f8ff;border: 1px dotted black;border-radius: 0.25em;box-sizing: border-box;margin-bottom: 0.5em;}#sk-container-id-1 div.sk-estimator:hover {background-color: #d4ebff;}#sk-container-id-1 div.sk-parallel-item::after {content: \"\";width: 100%;border-bottom: 1px solid gray;flex-grow: 1;}#sk-container-id-1 div.sk-label:hover label.sk-toggleable__label {background-color: #d4ebff;}#sk-container-id-1 div.sk-serial::before {content: \"\";position: absolute;border-left: 1px solid gray;box-sizing: border-box;top: 0;bottom: 0;left: 50%;z-index: 0;}#sk-container-id-1 div.sk-serial {display: flex;flex-direction: column;align-items: center;background-color: white;padding-right: 0.2em;padding-left: 0.2em;position: relative;}#sk-container-id-1 div.sk-item {position: relative;z-index: 1;}#sk-container-id-1 div.sk-parallel {display: flex;align-items: stretch;justify-content: center;background-color: white;position: relative;}#sk-container-id-1 div.sk-item::before, #sk-container-id-1 div.sk-parallel-item::before {content: \"\";position: absolute;border-left: 1px solid gray;box-sizing: border-box;top: 0;bottom: 0;left: 50%;z-index: -1;}#sk-container-id-1 div.sk-parallel-item {display: flex;flex-direction: column;z-index: 1;position: relative;background-color: white;}#sk-container-id-1 div.sk-parallel-item:first-child::after {align-self: flex-end;width: 50%;}#sk-container-id-1 div.sk-parallel-item:last-child::after {align-self: flex-start;width: 50%;}#sk-container-id-1 div.sk-parallel-item:only-child::after {width: 0;}#sk-container-id-1 div.sk-dashed-wrapped {border: 1px dashed gray;margin: 0 0.4em 0.5em 0.4em;box-sizing: border-box;padding-bottom: 0.4em;background-color: white;}#sk-container-id-1 div.sk-label label {font-family: monospace;font-weight: bold;display: inline-block;line-height: 1.2em;}#sk-container-id-1 div.sk-label-container {text-align: center;}#sk-container-id-1 div.sk-container {/* jupyter's `normalize.less` sets `[hidden] { display: none; }` but bootstrap.min.css set `[hidden] { display: none !important; }` so we also need the `!important` here to be able to override the default hidden behavior on the sphinx rendered scikit-learn.org. See: https://github.com/scikit-learn/scikit-learn/issues/21755 */display: inline-block !important;position: relative;}#sk-container-id-1 div.sk-text-repr-fallback {display: none;}</style><div id=\"sk-container-id-1\" class=\"sk-top-container\"><div class=\"sk-text-repr-fallback\"><pre>ElasticNet()</pre><b>In a Jupyter environment, please rerun this cell to show the HTML representation or trust the notebook. <br />On GitHub, the HTML representation is unable to render, please try loading this page with nbviewer.org.</b></div><div class=\"sk-container\" hidden><div class=\"sk-item\"><div class=\"sk-estimator sk-toggleable\"><input class=\"sk-toggleable__control sk-hidden--visually\" id=\"sk-estimator-id-1\" type=\"checkbox\" checked><label for=\"sk-estimator-id-1\" class=\"sk-toggleable__label sk-toggleable__label-arrow\">ElasticNet</label><div class=\"sk-toggleable__content\"><pre>ElasticNet()</pre></div></div></div></div></div>"
      ],
      "text/plain": [
       "ElasticNet()"
      ]
     },
     "execution_count": 20,
     "metadata": {},
     "output_type": "execute_result"
    }
   ],
   "source": [
    "# Learning Model -> finding pattern from question-answer of Training Data\n",
    "Model_LR.fit(x_train,y_train)\n",
    "Model_R.fit(x_train,y_train)\n",
    "Model_L.fit(x_train,y_train)\n",
    "Model_E.fit(x_train,y_train)"
   ]
  },
  {
   "cell_type": "code",
   "execution_count": 21,
   "metadata": {},
   "outputs": [],
   "source": [
    "## Predicted Target\n",
    "pred_test_LR=Model_LR.predict(x_test)\n",
    "pred_test_R=Model_R.predict(x_test)\n",
    "pred_test_L=Model_L.predict(x_test)\n",
    "pred_test_E=Model_E.predict(x_test)"
   ]
  },
  {
   "cell_type": "markdown",
   "metadata": {},
   "source": [
    "#### 3.2.2 Training Model"
   ]
  },
  {
   "cell_type": "code",
   "execution_count": 22,
   "metadata": {},
   "outputs": [
    {
     "data": {
      "text/plain": [
       "(16080, 6)"
      ]
     },
     "execution_count": 22,
     "metadata": {},
     "output_type": "execute_result"
    }
   ],
   "source": [
    "## Describe shape of train features\n",
    "x_train.shape"
   ]
  },
  {
   "cell_type": "code",
   "execution_count": 23,
   "metadata": {},
   "outputs": [
    {
     "data": {
      "text/html": [
       "<div>\n",
       "<style scoped>\n",
       "    .dataframe tbody tr th:only-of-type {\n",
       "        vertical-align: middle;\n",
       "    }\n",
       "\n",
       "    .dataframe tbody tr th {\n",
       "        vertical-align: top;\n",
       "    }\n",
       "\n",
       "    .dataframe thead th {\n",
       "        text-align: right;\n",
       "    }\n",
       "</style>\n",
       "<table border=\"1\" class=\"dataframe\">\n",
       "  <thead>\n",
       "    <tr style=\"text-align: right;\">\n",
       "      <th></th>\n",
       "      <th>passenger_count</th>\n",
       "      <th>distance</th>\n",
       "      <th>year</th>\n",
       "      <th>month</th>\n",
       "      <th>day</th>\n",
       "      <th>hour</th>\n",
       "    </tr>\n",
       "  </thead>\n",
       "  <tbody>\n",
       "    <tr>\n",
       "      <th>2760</th>\n",
       "      <td>3.0</td>\n",
       "      <td>0.038267</td>\n",
       "      <td>2014</td>\n",
       "      <td>11</td>\n",
       "      <td>5</td>\n",
       "      <td>0</td>\n",
       "    </tr>\n",
       "    <tr>\n",
       "      <th>13436</th>\n",
       "      <td>1.0</td>\n",
       "      <td>0.076557</td>\n",
       "      <td>2015</td>\n",
       "      <td>1</td>\n",
       "      <td>8</td>\n",
       "      <td>11</td>\n",
       "    </tr>\n",
       "    <tr>\n",
       "      <th>5746</th>\n",
       "      <td>1.0</td>\n",
       "      <td>0.016469</td>\n",
       "      <td>2011</td>\n",
       "      <td>10</td>\n",
       "      <td>2</td>\n",
       "      <td>10</td>\n",
       "    </tr>\n",
       "    <tr>\n",
       "      <th>5998</th>\n",
       "      <td>1.0</td>\n",
       "      <td>0.062633</td>\n",
       "      <td>2014</td>\n",
       "      <td>12</td>\n",
       "      <td>21</td>\n",
       "      <td>22</td>\n",
       "    </tr>\n",
       "    <tr>\n",
       "      <th>6896</th>\n",
       "      <td>6.0</td>\n",
       "      <td>0.018300</td>\n",
       "      <td>2014</td>\n",
       "      <td>9</td>\n",
       "      <td>3</td>\n",
       "      <td>17</td>\n",
       "    </tr>\n",
       "  </tbody>\n",
       "</table>\n",
       "</div>"
      ],
      "text/plain": [
       "       passenger_count  distance  year  month  day  hour\n",
       "2760               3.0  0.038267  2014     11    5     0\n",
       "13436              1.0  0.076557  2015      1    8    11\n",
       "5746               1.0  0.016469  2011     10    2    10\n",
       "5998               1.0  0.062633  2014     12   21    22\n",
       "6896               6.0  0.018300  2014      9    3    17"
      ]
     },
     "execution_count": 23,
     "metadata": {},
     "output_type": "execute_result"
    }
   ],
   "source": [
    "## Show train features\n",
    "x_train.head()"
   ]
  },
  {
   "cell_type": "code",
   "execution_count": 24,
   "metadata": {},
   "outputs": [
    {
     "data": {
      "text/html": [
       "<div>\n",
       "<style scoped>\n",
       "    .dataframe tbody tr th:only-of-type {\n",
       "        vertical-align: middle;\n",
       "    }\n",
       "\n",
       "    .dataframe tbody tr th {\n",
       "        vertical-align: top;\n",
       "    }\n",
       "\n",
       "    .dataframe thead th {\n",
       "        text-align: right;\n",
       "    }\n",
       "</style>\n",
       "<table border=\"1\" class=\"dataframe\">\n",
       "  <thead>\n",
       "    <tr style=\"text-align: right;\">\n",
       "      <th></th>\n",
       "      <th>passenger_count</th>\n",
       "      <th>distance</th>\n",
       "      <th>year</th>\n",
       "      <th>month</th>\n",
       "      <th>day</th>\n",
       "      <th>hour</th>\n",
       "    </tr>\n",
       "  </thead>\n",
       "  <tbody>\n",
       "    <tr>\n",
       "      <th>2760</th>\n",
       "      <td>3.0</td>\n",
       "      <td>0.038267</td>\n",
       "      <td>2014</td>\n",
       "      <td>11</td>\n",
       "      <td>5</td>\n",
       "      <td>0</td>\n",
       "    </tr>\n",
       "    <tr>\n",
       "      <th>13436</th>\n",
       "      <td>1.0</td>\n",
       "      <td>0.076557</td>\n",
       "      <td>2015</td>\n",
       "      <td>1</td>\n",
       "      <td>8</td>\n",
       "      <td>11</td>\n",
       "    </tr>\n",
       "    <tr>\n",
       "      <th>5746</th>\n",
       "      <td>1.0</td>\n",
       "      <td>0.016469</td>\n",
       "      <td>2011</td>\n",
       "      <td>10</td>\n",
       "      <td>2</td>\n",
       "      <td>10</td>\n",
       "    </tr>\n",
       "    <tr>\n",
       "      <th>5998</th>\n",
       "      <td>1.0</td>\n",
       "      <td>0.062633</td>\n",
       "      <td>2014</td>\n",
       "      <td>12</td>\n",
       "      <td>21</td>\n",
       "      <td>22</td>\n",
       "    </tr>\n",
       "    <tr>\n",
       "      <th>6896</th>\n",
       "      <td>6.0</td>\n",
       "      <td>0.018300</td>\n",
       "      <td>2014</td>\n",
       "      <td>9</td>\n",
       "      <td>3</td>\n",
       "      <td>17</td>\n",
       "    </tr>\n",
       "  </tbody>\n",
       "</table>\n",
       "</div>"
      ],
      "text/plain": [
       "       passenger_count  distance  year  month  day  hour\n",
       "2760               3.0  0.038267  2014     11    5     0\n",
       "13436              1.0  0.076557  2015      1    8    11\n",
       "5746               1.0  0.016469  2011     10    2    10\n",
       "5998               1.0  0.062633  2014     12   21    22\n",
       "6896               6.0  0.018300  2014      9    3    17"
      ]
     },
     "execution_count": 24,
     "metadata": {},
     "output_type": "execute_result"
    }
   ],
   "source": [
    "## Convert train features to DataFrame\n",
    "df_x_train=pd.DataFrame(x_train)\n",
    "df_x_train.head()"
   ]
  },
  {
   "cell_type": "markdown",
   "metadata": {},
   "source": [
    "#### 3.2.3 Testing Model"
   ]
  },
  {
   "cell_type": "code",
   "execution_count": 25,
   "metadata": {},
   "outputs": [
    {
     "data": {
      "text/plain": [
       "(2838, 6)"
      ]
     },
     "execution_count": 25,
     "metadata": {},
     "output_type": "execute_result"
    }
   ],
   "source": [
    "## Describe shape of test features\n",
    "x_test.shape"
   ]
  },
  {
   "cell_type": "code",
   "execution_count": 26,
   "metadata": {},
   "outputs": [
    {
     "data": {
      "text/html": [
       "<div>\n",
       "<style scoped>\n",
       "    .dataframe tbody tr th:only-of-type {\n",
       "        vertical-align: middle;\n",
       "    }\n",
       "\n",
       "    .dataframe tbody tr th {\n",
       "        vertical-align: top;\n",
       "    }\n",
       "\n",
       "    .dataframe thead th {\n",
       "        text-align: right;\n",
       "    }\n",
       "</style>\n",
       "<table border=\"1\" class=\"dataframe\">\n",
       "  <thead>\n",
       "    <tr style=\"text-align: right;\">\n",
       "      <th></th>\n",
       "      <th>passenger_count</th>\n",
       "      <th>distance</th>\n",
       "      <th>year</th>\n",
       "      <th>month</th>\n",
       "      <th>day</th>\n",
       "      <th>hour</th>\n",
       "    </tr>\n",
       "  </thead>\n",
       "  <tbody>\n",
       "    <tr>\n",
       "      <th>12565</th>\n",
       "      <td>1.0</td>\n",
       "      <td>0.034270</td>\n",
       "      <td>2012</td>\n",
       "      <td>6</td>\n",
       "      <td>15</td>\n",
       "      <td>9</td>\n",
       "    </tr>\n",
       "    <tr>\n",
       "      <th>5282</th>\n",
       "      <td>1.0</td>\n",
       "      <td>0.013032</td>\n",
       "      <td>2012</td>\n",
       "      <td>1</td>\n",
       "      <td>19</td>\n",
       "      <td>18</td>\n",
       "    </tr>\n",
       "    <tr>\n",
       "      <th>4525</th>\n",
       "      <td>2.0</td>\n",
       "      <td>0.058549</td>\n",
       "      <td>2010</td>\n",
       "      <td>11</td>\n",
       "      <td>16</td>\n",
       "      <td>19</td>\n",
       "    </tr>\n",
       "    <tr>\n",
       "      <th>17370</th>\n",
       "      <td>2.0</td>\n",
       "      <td>0.069345</td>\n",
       "      <td>2011</td>\n",
       "      <td>2</td>\n",
       "      <td>9</td>\n",
       "      <td>14</td>\n",
       "    </tr>\n",
       "    <tr>\n",
       "      <th>9239</th>\n",
       "      <td>1.0</td>\n",
       "      <td>0.013675</td>\n",
       "      <td>2013</td>\n",
       "      <td>10</td>\n",
       "      <td>7</td>\n",
       "      <td>21</td>\n",
       "    </tr>\n",
       "  </tbody>\n",
       "</table>\n",
       "</div>"
      ],
      "text/plain": [
       "       passenger_count  distance  year  month  day  hour\n",
       "12565              1.0  0.034270  2012      6   15     9\n",
       "5282               1.0  0.013032  2012      1   19    18\n",
       "4525               2.0  0.058549  2010     11   16    19\n",
       "17370              2.0  0.069345  2011      2    9    14\n",
       "9239               1.0  0.013675  2013     10    7    21"
      ]
     },
     "execution_count": 26,
     "metadata": {},
     "output_type": "execute_result"
    }
   ],
   "source": [
    "## Show test features\n",
    "x_test.head()"
   ]
  },
  {
   "cell_type": "code",
   "execution_count": 27,
   "metadata": {},
   "outputs": [
    {
     "data": {
      "text/html": [
       "<div>\n",
       "<style scoped>\n",
       "    .dataframe tbody tr th:only-of-type {\n",
       "        vertical-align: middle;\n",
       "    }\n",
       "\n",
       "    .dataframe tbody tr th {\n",
       "        vertical-align: top;\n",
       "    }\n",
       "\n",
       "    .dataframe thead th {\n",
       "        text-align: right;\n",
       "    }\n",
       "</style>\n",
       "<table border=\"1\" class=\"dataframe\">\n",
       "  <thead>\n",
       "    <tr style=\"text-align: right;\">\n",
       "      <th></th>\n",
       "      <th>passenger_count</th>\n",
       "      <th>distance</th>\n",
       "      <th>year</th>\n",
       "      <th>month</th>\n",
       "      <th>day</th>\n",
       "      <th>hour</th>\n",
       "    </tr>\n",
       "  </thead>\n",
       "  <tbody>\n",
       "    <tr>\n",
       "      <th>12565</th>\n",
       "      <td>1.0</td>\n",
       "      <td>0.034270</td>\n",
       "      <td>2012</td>\n",
       "      <td>6</td>\n",
       "      <td>15</td>\n",
       "      <td>9</td>\n",
       "    </tr>\n",
       "    <tr>\n",
       "      <th>5282</th>\n",
       "      <td>1.0</td>\n",
       "      <td>0.013032</td>\n",
       "      <td>2012</td>\n",
       "      <td>1</td>\n",
       "      <td>19</td>\n",
       "      <td>18</td>\n",
       "    </tr>\n",
       "    <tr>\n",
       "      <th>4525</th>\n",
       "      <td>2.0</td>\n",
       "      <td>0.058549</td>\n",
       "      <td>2010</td>\n",
       "      <td>11</td>\n",
       "      <td>16</td>\n",
       "      <td>19</td>\n",
       "    </tr>\n",
       "    <tr>\n",
       "      <th>17370</th>\n",
       "      <td>2.0</td>\n",
       "      <td>0.069345</td>\n",
       "      <td>2011</td>\n",
       "      <td>2</td>\n",
       "      <td>9</td>\n",
       "      <td>14</td>\n",
       "    </tr>\n",
       "    <tr>\n",
       "      <th>9239</th>\n",
       "      <td>1.0</td>\n",
       "      <td>0.013675</td>\n",
       "      <td>2013</td>\n",
       "      <td>10</td>\n",
       "      <td>7</td>\n",
       "      <td>21</td>\n",
       "    </tr>\n",
       "  </tbody>\n",
       "</table>\n",
       "</div>"
      ],
      "text/plain": [
       "       passenger_count  distance  year  month  day  hour\n",
       "12565              1.0  0.034270  2012      6   15     9\n",
       "5282               1.0  0.013032  2012      1   19    18\n",
       "4525               2.0  0.058549  2010     11   16    19\n",
       "17370              2.0  0.069345  2011      2    9    14\n",
       "9239               1.0  0.013675  2013     10    7    21"
      ]
     },
     "execution_count": 27,
     "metadata": {},
     "output_type": "execute_result"
    }
   ],
   "source": [
    "## Convert test features to DataFrame\n",
    "df_x_test=pd.DataFrame(x_test)\n",
    "df_x_test.head()"
   ]
  },
  {
   "cell_type": "markdown",
   "metadata": {},
   "source": [
    "#### 3.2.4 Prediction with Training and Testing Model"
   ]
  },
  {
   "cell_type": "code",
   "execution_count": 28,
   "metadata": {},
   "outputs": [],
   "source": [
    "## Predict with every Model\n",
    "LR_train=Model_LR.predict(df_x_train)\n",
    "LR_test=Model_LR.predict(df_x_test)\n",
    "\n",
    "R_train=Model_R.predict(df_x_train)\n",
    "R_test=Model_R.predict(df_x_test)\n",
    "\n",
    "L_train=Model_L.predict(df_x_train)\n",
    "L_test=Model_L.predict(df_x_test)\n",
    "\n",
    "E_train=Model_E.predict(df_x_train)\n",
    "E_test=Model_E.predict(df_x_test)"
   ]
  },
  {
   "cell_type": "markdown",
   "metadata": {},
   "source": [
    "### 3.3 Evaluation Matrix"
   ]
  },
  {
   "cell_type": "markdown",
   "metadata": {},
   "source": [
    "#### 3.3.1 Check and Compare Evaluation Matrix Score for each Models"
   ]
  },
  {
   "cell_type": "code",
   "execution_count": 29,
   "metadata": {},
   "outputs": [],
   "source": [
    "## Create function for evaluation matrix\n",
    "def Eva_Matrix(Model,x,y_true):\n",
    "    y_pred=Model.predict(x)\n",
    "    R2=r2_score(y_true,y_pred)\n",
    "    MAE=mean_absolute_error(y_true,y_pred)\n",
    "    MSE=mean_squared_error(y_true,y_pred)\n",
    "    RMSE=np.sqrt(MSE)\n",
    "    return R2,MAE,MSE,RMSE"
   ]
  },
  {
   "cell_type": "code",
   "execution_count": 30,
   "metadata": {},
   "outputs": [],
   "source": [
    "## Linear Regression Training\n",
    "r2_LR_Train,MAE_LR_Train,MSE_LR_Train,RMSE_LR_Train=Eva_Matrix(Model_LR,x_train,y_train)\n",
    "## Linear Regression Testing\n",
    "r2_LR_Test,MAE_LR_Test,MSE_LR_Test,RMSE_LR_Test=Eva_Matrix(Model_LR,x_test,y_test)\n",
    "## Ridge Training\n",
    "r2_Ridge_Train,MAE_Ridge_Train,MSE_Ridge_Train,RMSE_Ridge_Train=Eva_Matrix(Model_R,x_train,y_train)\n",
    "## Ridge Testing\n",
    "r2_Ridge_Test,MAE_Ridge_Test,MSE_Ridge_Test,RMSE_Ridge_Test=Eva_Matrix(Model_R,x_test,y_test)\n",
    "## Lasso Training\n",
    "r2_Lasso_Train,MAE_Lasso_Train,MSE_Lasso_Train,RMSE_Lasso_Train=Eva_Matrix(Model_L,x_train,y_train)\n",
    "## Lasso Testing\n",
    "r2_Lasso_Test,MAE_Lasso_Test,MSE_Lasso_Test,RMSE_Lasso_Test=Eva_Matrix(Model_L,x_test,y_test)\n",
    "## ElasticNet Training\n",
    "r2_Elasticnet_Train,MAE_Elasticnet_Train,MSE_Elasticnet_Train,RMSE_Elasticnet_Train=Eva_Matrix(Model_E,x_train,y_train)\n",
    "## ElasticNet Testing\n",
    "r2_Elasticnet_Train,MAE_Elasticnet_Train,MSE_Elasticnet_Train,RMSE_Elasticnet_Train=Eva_Matrix(Model_E,x_test,y_test)"
   ]
  },
  {
   "cell_type": "code",
   "execution_count": 31,
   "metadata": {},
   "outputs": [
    {
     "data": {
      "text/html": [
       "<div>\n",
       "<style scoped>\n",
       "    .dataframe tbody tr th:only-of-type {\n",
       "        vertical-align: middle;\n",
       "    }\n",
       "\n",
       "    .dataframe tbody tr th {\n",
       "        vertical-align: top;\n",
       "    }\n",
       "\n",
       "    .dataframe thead th {\n",
       "        text-align: right;\n",
       "    }\n",
       "</style>\n",
       "<table border=\"1\" class=\"dataframe\">\n",
       "  <thead>\n",
       "    <tr style=\"text-align: right;\">\n",
       "      <th></th>\n",
       "      <th>R-Squared</th>\n",
       "      <th>MAE</th>\n",
       "      <th>MSE</th>\n",
       "      <th>RMSE</th>\n",
       "    </tr>\n",
       "  </thead>\n",
       "  <tbody>\n",
       "    <tr>\n",
       "      <th>Linear Regression Training</th>\n",
       "      <td>0.0021</td>\n",
       "      <td>6.0125</td>\n",
       "      <td>92.1261</td>\n",
       "      <td>9.5982</td>\n",
       "    </tr>\n",
       "    <tr>\n",
       "      <th>Linear Regression Testing</th>\n",
       "      <td>0.0031</td>\n",
       "      <td>5.7447</td>\n",
       "      <td>84.6864</td>\n",
       "      <td>9.2025</td>\n",
       "    </tr>\n",
       "    <tr>\n",
       "      <th>Ridge Training</th>\n",
       "      <td>0.016</td>\n",
       "      <td>5.9428</td>\n",
       "      <td>90.8448</td>\n",
       "      <td>9.5313</td>\n",
       "    </tr>\n",
       "    <tr>\n",
       "      <th>Ridge Testing</th>\n",
       "      <td>0.0172</td>\n",
       "      <td>5.6783</td>\n",
       "      <td>83.4897</td>\n",
       "      <td>9.1373</td>\n",
       "    </tr>\n",
       "    <tr>\n",
       "      <th>Lasso Training</th>\n",
       "      <td>0.011</td>\n",
       "      <td>5.9701</td>\n",
       "      <td>91.3031</td>\n",
       "      <td>9.5553</td>\n",
       "    </tr>\n",
       "    <tr>\n",
       "      <th>Lasso Testing</th>\n",
       "      <td>0.0099</td>\n",
       "      <td>5.7036</td>\n",
       "      <td>84.1093</td>\n",
       "      <td>9.1711</td>\n",
       "    </tr>\n",
       "    <tr>\n",
       "      <th>Elasticnet Training</th>\n",
       "      <td>0.014</td>\n",
       "      <td>5.6895</td>\n",
       "      <td>83.7559</td>\n",
       "      <td>9.1518</td>\n",
       "    </tr>\n",
       "    <tr>\n",
       "      <th>Elasticnet Testing</th>\n",
       "      <td>0.014</td>\n",
       "      <td>5.6895</td>\n",
       "      <td>83.7559</td>\n",
       "      <td>9.1518</td>\n",
       "    </tr>\n",
       "    <tr>\n",
       "      <th>Range</th>\n",
       "      <td>-~ to 1</td>\n",
       "      <td>0 to ~</td>\n",
       "      <td>0 to ~</td>\n",
       "      <td>0 to ~</td>\n",
       "    </tr>\n",
       "    <tr>\n",
       "      <th>Indicator</th>\n",
       "      <td>Closer to 1 the better</td>\n",
       "      <td>Closer to 0 the better</td>\n",
       "      <td>Closer to 0 the better</td>\n",
       "      <td>Closer to 0 the better</td>\n",
       "    </tr>\n",
       "  </tbody>\n",
       "</table>\n",
       "</div>"
      ],
      "text/plain": [
       "                                         R-Squared                     MAE  \\\n",
       "Linear Regression Training                  0.0021                  6.0125   \n",
       "Linear Regression Testing                   0.0031                  5.7447   \n",
       "Ridge Training                               0.016                  5.9428   \n",
       "Ridge Testing                               0.0172                  5.6783   \n",
       "Lasso Training                               0.011                  5.9701   \n",
       "Lasso Testing                               0.0099                  5.7036   \n",
       "Elasticnet Training                          0.014                  5.6895   \n",
       "Elasticnet Testing                           0.014                  5.6895   \n",
       "Range                                      -~ to 1                  0 to ~   \n",
       "Indicator                   Closer to 1 the better  Closer to 0 the better   \n",
       "\n",
       "                                               MSE                    RMSE  \n",
       "Linear Regression Training                 92.1261                  9.5982  \n",
       "Linear Regression Testing                  84.6864                  9.2025  \n",
       "Ridge Training                             90.8448                  9.5313  \n",
       "Ridge Testing                              83.4897                  9.1373  \n",
       "Lasso Training                             91.3031                  9.5553  \n",
       "Lasso Testing                              84.1093                  9.1711  \n",
       "Elasticnet Training                        83.7559                  9.1518  \n",
       "Elasticnet Testing                         83.7559                  9.1518  \n",
       "Range                                       0 to ~                  0 to ~  \n",
       "Indicator                   Closer to 0 the better  Closer to 0 the better  "
      ]
     },
     "execution_count": 31,
     "metadata": {},
     "output_type": "execute_result"
    }
   ],
   "source": [
    "## EVALUATION MATRIX COMPARISON\n",
    "eva_matrix={\n",
    "    'Linear Regression Training':[r2_LR_Train,MAE_LR_Train,MSE_LR_Train,RMSE_LR_Train],\n",
    "    'Linear Regression Testing':[r2_LR_Test,MAE_LR_Test,MSE_LR_Test,RMSE_LR_Test],\n",
    "    'Ridge Training':[r2_Ridge_Train,MAE_Ridge_Train,MSE_Ridge_Train,RMSE_Ridge_Train],\n",
    "    'Ridge Testing':[r2_Ridge_Test,MAE_Ridge_Test,MSE_Ridge_Test,RMSE_Ridge_Test],\n",
    "    'Lasso Training':[r2_Lasso_Train,MAE_Lasso_Train,MSE_Lasso_Train,RMSE_Lasso_Train],\n",
    "    'Lasso Testing':[r2_Lasso_Test,MAE_Lasso_Test,MSE_Lasso_Test,RMSE_Lasso_Test],\n",
    "    'Elasticnet Training':[r2_Elasticnet_Train,MAE_Elasticnet_Train,MSE_Elasticnet_Train,RMSE_Elasticnet_Train],\n",
    "    'Elasticnet Testing':[r2_Elasticnet_Train,MAE_Elasticnet_Train,MSE_Elasticnet_Train,RMSE_Elasticnet_Train],    \n",
    "    'Range':['-~ to 1','0 to ~','0 to ~','0 to ~'],\n",
    "    'Indicator':['Closer to 1 the better','Closer to 0 the better','Closer to 0 the better','Closer to 0 the better']\n",
    "}\n",
    "summary=pd.DataFrame(eva_matrix,index=['R-Squared','MAE','MSE','RMSE']).round(4)\n",
    "summary.T"
   ]
  },
  {
   "cell_type": "markdown",
   "metadata": {},
   "source": [
    "Insight:\n",
    "- Based on R-Squared score, all models are not an ideal models since both training and testing models only produce score below 0.02. Good model should produce R-Squared score above 0.80.\n",
    "- Other evaluation parameters such as MAE, MSE, RMSE also score nowhere near 0 (ideal score).\n",
    "- Improvement is necessary for all models."
   ]
  },
  {
   "cell_type": "markdown",
   "metadata": {},
   "source": [
    "<hr>\n",
    "\n",
    "## 4 Machine Learning Improvement"
   ]
  },
  {
   "cell_type": "markdown",
   "metadata": {},
   "source": [
    "### 4.1 Using Feature Engineering (Polynomial Transformer)"
   ]
  },
  {
   "cell_type": "code",
   "execution_count": 32,
   "metadata": {},
   "outputs": [],
   "source": [
    "## Import package\n",
    "from sklearn.preprocessing import PolynomialFeatures, PowerTransformer\n",
    "## Power transformer enable to use float as powers of numbers (Bahasa Indonesia: pangkat)"
   ]
  },
  {
   "cell_type": "code",
   "execution_count": 45,
   "metadata": {},
   "outputs": [],
   "source": [
    "## Create model with Polynomial Features\n",
    "poly=PolynomialFeatures(degree=3,include_bias=False)"
   ]
  },
  {
   "cell_type": "code",
   "execution_count": 34,
   "metadata": {},
   "outputs": [],
   "source": [
    "## Create model with Power Transformer\n",
    "yeo_pow=PowerTransformer('yeo-johnson')"
   ]
  },
  {
   "cell_type": "code",
   "execution_count": 35,
   "metadata": {},
   "outputs": [
    {
     "data": {
      "text/html": [
       "<div>\n",
       "<style scoped>\n",
       "    .dataframe tbody tr th:only-of-type {\n",
       "        vertical-align: middle;\n",
       "    }\n",
       "\n",
       "    .dataframe tbody tr th {\n",
       "        vertical-align: top;\n",
       "    }\n",
       "\n",
       "    .dataframe thead th {\n",
       "        text-align: right;\n",
       "    }\n",
       "</style>\n",
       "<table border=\"1\" class=\"dataframe\">\n",
       "  <thead>\n",
       "    <tr style=\"text-align: right;\">\n",
       "      <th></th>\n",
       "      <th>fare_amount</th>\n",
       "      <th>passenger_count</th>\n",
       "      <th>distance</th>\n",
       "      <th>year</th>\n",
       "      <th>month</th>\n",
       "      <th>day</th>\n",
       "      <th>hour</th>\n",
       "    </tr>\n",
       "  </thead>\n",
       "  <tbody>\n",
       "    <tr>\n",
       "      <th>0</th>\n",
       "      <td>4.5</td>\n",
       "      <td>1.0</td>\n",
       "      <td>0.006340</td>\n",
       "      <td>2009</td>\n",
       "      <td>6</td>\n",
       "      <td>15</td>\n",
       "      <td>17</td>\n",
       "    </tr>\n",
       "    <tr>\n",
       "      <th>1</th>\n",
       "      <td>16.9</td>\n",
       "      <td>1.0</td>\n",
       "      <td>0.107481</td>\n",
       "      <td>2010</td>\n",
       "      <td>1</td>\n",
       "      <td>5</td>\n",
       "      <td>16</td>\n",
       "    </tr>\n",
       "    <tr>\n",
       "      <th>2</th>\n",
       "      <td>5.7</td>\n",
       "      <td>2.0</td>\n",
       "      <td>0.019212</td>\n",
       "      <td>2011</td>\n",
       "      <td>8</td>\n",
       "      <td>18</td>\n",
       "      <td>0</td>\n",
       "    </tr>\n",
       "    <tr>\n",
       "      <th>3</th>\n",
       "      <td>7.7</td>\n",
       "      <td>1.0</td>\n",
       "      <td>0.020512</td>\n",
       "      <td>2012</td>\n",
       "      <td>4</td>\n",
       "      <td>21</td>\n",
       "      <td>4</td>\n",
       "    </tr>\n",
       "    <tr>\n",
       "      <th>4</th>\n",
       "      <td>5.3</td>\n",
       "      <td>1.0</td>\n",
       "      <td>0.027194</td>\n",
       "      <td>2010</td>\n",
       "      <td>3</td>\n",
       "      <td>9</td>\n",
       "      <td>7</td>\n",
       "    </tr>\n",
       "  </tbody>\n",
       "</table>\n",
       "</div>"
      ],
      "text/plain": [
       "   fare_amount  passenger_count  distance  year  month  day  hour\n",
       "0          4.5              1.0  0.006340  2009      6   15    17\n",
       "1         16.9              1.0  0.107481  2010      1    5    16\n",
       "2          5.7              2.0  0.019212  2011      8   18     0\n",
       "3          7.7              1.0  0.020512  2012      4   21     4\n",
       "4          5.3              1.0  0.027194  2010      3    9     7"
      ]
     },
     "execution_count": 35,
     "metadata": {},
     "output_type": "execute_result"
    }
   ],
   "source": [
    "## Show data\n",
    "df.head()\n",
    "## Analysis: we want to do scaling, \n",
    "### Exclude features with limited value such as hour (limited to 24 hours), month (limited to 12 months), and day (limited to 28-31 days)"
   ]
  },
  {
   "cell_type": "code",
   "execution_count": 36,
   "metadata": {},
   "outputs": [],
   "source": [
    "## Extract columns/features we would like to transform\n",
    "num_col=df[['passenger_count','distance','year']]"
   ]
  },
  {
   "cell_type": "code",
   "execution_count": 50,
   "metadata": {},
   "outputs": [],
   "source": [
    "## Fit and Transform to Model\n",
    "num_poly=poly.fit_transform(num_col)\n",
    "num_pow=yeo_pow.fit_transform(num_poly) # Result as array"
   ]
  },
  {
   "cell_type": "code",
   "execution_count": 51,
   "metadata": {},
   "outputs": [
    {
     "data": {
      "text/html": [
       "<div>\n",
       "<style scoped>\n",
       "    .dataframe tbody tr th:only-of-type {\n",
       "        vertical-align: middle;\n",
       "    }\n",
       "\n",
       "    .dataframe tbody tr th {\n",
       "        vertical-align: top;\n",
       "    }\n",
       "\n",
       "    .dataframe thead th {\n",
       "        text-align: right;\n",
       "    }\n",
       "</style>\n",
       "<table border=\"1\" class=\"dataframe\">\n",
       "  <thead>\n",
       "    <tr style=\"text-align: right;\">\n",
       "      <th></th>\n",
       "      <th>0</th>\n",
       "      <th>1</th>\n",
       "      <th>2</th>\n",
       "      <th>3</th>\n",
       "      <th>4</th>\n",
       "      <th>5</th>\n",
       "      <th>6</th>\n",
       "      <th>7</th>\n",
       "      <th>8</th>\n",
       "      <th>9</th>\n",
       "      <th>10</th>\n",
       "      <th>11</th>\n",
       "      <th>12</th>\n",
       "      <th>13</th>\n",
       "      <th>14</th>\n",
       "      <th>15</th>\n",
       "      <th>16</th>\n",
       "      <th>17</th>\n",
       "      <th>18</th>\n",
       "    </tr>\n",
       "  </thead>\n",
       "  <tbody>\n",
       "    <tr>\n",
       "      <th>0</th>\n",
       "      <td>-0.541042</td>\n",
       "      <td>-1.053236</td>\n",
       "      <td>-1.930678e-13</td>\n",
       "      <td>-0.600677</td>\n",
       "      <td>-1.081936</td>\n",
       "      <td>-0.514831</td>\n",
       "      <td>-0.495979</td>\n",
       "      <td>-0.882452</td>\n",
       "      <td>-1.869616e-13</td>\n",
       "      <td>-0.623728</td>\n",
       "      <td>-0.941961</td>\n",
       "      <td>-0.513990</td>\n",
       "      <td>-0.538653</td>\n",
       "      <td>-0.983503</td>\n",
       "      <td>-0.518532</td>\n",
       "      <td>-0.197541</td>\n",
       "      <td>-1.184868</td>\n",
       "      <td>-0.717414</td>\n",
       "      <td>4.227729e-13</td>\n",
       "    </tr>\n",
       "    <tr>\n",
       "      <th>1</th>\n",
       "      <td>-0.541042</td>\n",
       "      <td>1.878846</td>\n",
       "      <td>-1.273981e-13</td>\n",
       "      <td>-0.600677</td>\n",
       "      <td>1.278273</td>\n",
       "      <td>-0.514100</td>\n",
       "      <td>1.767568</td>\n",
       "      <td>1.333108</td>\n",
       "      <td>-1.860734e-13</td>\n",
       "      <td>-0.623728</td>\n",
       "      <td>0.626139</td>\n",
       "      <td>-0.513574</td>\n",
       "      <td>1.257450</td>\n",
       "      <td>0.956526</td>\n",
       "      <td>-0.517123</td>\n",
       "      <td>0.506135</td>\n",
       "      <td>1.663864</td>\n",
       "      <td>1.212546</td>\n",
       "      <td>4.263256e-13</td>\n",
       "    </tr>\n",
       "    <tr>\n",
       "      <th>2</th>\n",
       "      <td>0.914194</td>\n",
       "      <td>-0.377609</td>\n",
       "      <td>-6.183942e-14</td>\n",
       "      <td>1.185880</td>\n",
       "      <td>0.003999</td>\n",
       "      <td>0.577272</td>\n",
       "      <td>-0.420281</td>\n",
       "      <td>-0.076170</td>\n",
       "      <td>-1.852962e-13</td>\n",
       "      <td>1.262003</td>\n",
       "      <td>0.270707</td>\n",
       "      <td>0.646762</td>\n",
       "      <td>-0.409884</td>\n",
       "      <td>0.200604</td>\n",
       "      <td>0.557731</td>\n",
       "      <td>-0.193578</td>\n",
       "      <td>-0.382919</td>\n",
       "      <td>-0.073011</td>\n",
       "      <td>4.298784e-13</td>\n",
       "    </tr>\n",
       "    <tr>\n",
       "      <th>3</th>\n",
       "      <td>-0.541042</td>\n",
       "      <td>-0.316858</td>\n",
       "      <td>3.552714e-15</td>\n",
       "      <td>-0.600677</td>\n",
       "      <td>-0.547070</td>\n",
       "      <td>-0.512641</td>\n",
       "      <td>-0.408462</td>\n",
       "      <td>-0.025478</td>\n",
       "      <td>-1.845191e-13</td>\n",
       "      <td>-0.623728</td>\n",
       "      <td>-0.641979</td>\n",
       "      <td>-0.512742</td>\n",
       "      <td>-0.468091</td>\n",
       "      <td>-0.233355</td>\n",
       "      <td>-0.514305</td>\n",
       "      <td>-0.192686</td>\n",
       "      <td>-0.298870</td>\n",
       "      <td>-0.030280</td>\n",
       "      <td>4.333200e-13</td>\n",
       "    </tr>\n",
       "    <tr>\n",
       "      <th>4</th>\n",
       "      <td>-0.541042</td>\n",
       "      <td>-0.023812</td>\n",
       "      <td>-1.273981e-13</td>\n",
       "      <td>-0.600677</td>\n",
       "      <td>-0.326710</td>\n",
       "      <td>-0.514100</td>\n",
       "      <td>-0.335893</td>\n",
       "      <td>0.193551</td>\n",
       "      <td>-1.860734e-13</td>\n",
       "      <td>-0.623728</td>\n",
       "      <td>-0.511800</td>\n",
       "      <td>-0.513574</td>\n",
       "      <td>-0.409645</td>\n",
       "      <td>-0.041577</td>\n",
       "      <td>-0.517123</td>\n",
       "      <td>-0.186034</td>\n",
       "      <td>0.091814</td>\n",
       "      <td>0.155342</td>\n",
       "      <td>4.263256e-13</td>\n",
       "    </tr>\n",
       "  </tbody>\n",
       "</table>\n",
       "</div>"
      ],
      "text/plain": [
       "         0         1             2         3         4         5         6   \\\n",
       "0 -0.541042 -1.053236 -1.930678e-13 -0.600677 -1.081936 -0.514831 -0.495979   \n",
       "1 -0.541042  1.878846 -1.273981e-13 -0.600677  1.278273 -0.514100  1.767568   \n",
       "2  0.914194 -0.377609 -6.183942e-14  1.185880  0.003999  0.577272 -0.420281   \n",
       "3 -0.541042 -0.316858  3.552714e-15 -0.600677 -0.547070 -0.512641 -0.408462   \n",
       "4 -0.541042 -0.023812 -1.273981e-13 -0.600677 -0.326710 -0.514100 -0.335893   \n",
       "\n",
       "         7             8         9         10        11        12        13  \\\n",
       "0 -0.882452 -1.869616e-13 -0.623728 -0.941961 -0.513990 -0.538653 -0.983503   \n",
       "1  1.333108 -1.860734e-13 -0.623728  0.626139 -0.513574  1.257450  0.956526   \n",
       "2 -0.076170 -1.852962e-13  1.262003  0.270707  0.646762 -0.409884  0.200604   \n",
       "3 -0.025478 -1.845191e-13 -0.623728 -0.641979 -0.512742 -0.468091 -0.233355   \n",
       "4  0.193551 -1.860734e-13 -0.623728 -0.511800 -0.513574 -0.409645 -0.041577   \n",
       "\n",
       "         14        15        16        17            18  \n",
       "0 -0.518532 -0.197541 -1.184868 -0.717414  4.227729e-13  \n",
       "1 -0.517123  0.506135  1.663864  1.212546  4.263256e-13  \n",
       "2  0.557731 -0.193578 -0.382919 -0.073011  4.298784e-13  \n",
       "3 -0.514305 -0.192686 -0.298870 -0.030280  4.333200e-13  \n",
       "4 -0.517123 -0.186034  0.091814  0.155342  4.263256e-13  "
      ]
     },
     "execution_count": 51,
     "metadata": {},
     "output_type": "execute_result"
    }
   ],
   "source": [
    "## Transform Array to DataFrame\n",
    "df_pow=pd.DataFrame(num_pow)\n",
    "df_pow.head()"
   ]
  },
  {
   "cell_type": "code",
   "execution_count": 52,
   "metadata": {},
   "outputs": [
    {
     "data": {
      "text/html": [
       "<div>\n",
       "<style scoped>\n",
       "    .dataframe tbody tr th:only-of-type {\n",
       "        vertical-align: middle;\n",
       "    }\n",
       "\n",
       "    .dataframe tbody tr th {\n",
       "        vertical-align: top;\n",
       "    }\n",
       "\n",
       "    .dataframe thead th {\n",
       "        text-align: right;\n",
       "    }\n",
       "</style>\n",
       "<table border=\"1\" class=\"dataframe\">\n",
       "  <thead>\n",
       "    <tr style=\"text-align: right;\">\n",
       "      <th></th>\n",
       "      <th>fare_amount</th>\n",
       "      <th>month</th>\n",
       "      <th>day</th>\n",
       "      <th>hour</th>\n",
       "      <th>0</th>\n",
       "      <th>1</th>\n",
       "      <th>2</th>\n",
       "      <th>3</th>\n",
       "      <th>4</th>\n",
       "      <th>5</th>\n",
       "      <th>...</th>\n",
       "      <th>9</th>\n",
       "      <th>10</th>\n",
       "      <th>11</th>\n",
       "      <th>12</th>\n",
       "      <th>13</th>\n",
       "      <th>14</th>\n",
       "      <th>15</th>\n",
       "      <th>16</th>\n",
       "      <th>17</th>\n",
       "      <th>18</th>\n",
       "    </tr>\n",
       "  </thead>\n",
       "  <tbody>\n",
       "    <tr>\n",
       "      <th>0</th>\n",
       "      <td>4.5</td>\n",
       "      <td>6</td>\n",
       "      <td>15</td>\n",
       "      <td>17</td>\n",
       "      <td>-0.541042</td>\n",
       "      <td>-1.053236</td>\n",
       "      <td>-1.930678e-13</td>\n",
       "      <td>-0.600677</td>\n",
       "      <td>-1.081936</td>\n",
       "      <td>-0.514831</td>\n",
       "      <td>...</td>\n",
       "      <td>-0.623728</td>\n",
       "      <td>-0.941961</td>\n",
       "      <td>-0.513990</td>\n",
       "      <td>-0.538653</td>\n",
       "      <td>-0.983503</td>\n",
       "      <td>-0.518532</td>\n",
       "      <td>-0.197541</td>\n",
       "      <td>-1.184868</td>\n",
       "      <td>-0.717414</td>\n",
       "      <td>4.227729e-13</td>\n",
       "    </tr>\n",
       "    <tr>\n",
       "      <th>1</th>\n",
       "      <td>16.9</td>\n",
       "      <td>1</td>\n",
       "      <td>5</td>\n",
       "      <td>16</td>\n",
       "      <td>-0.541042</td>\n",
       "      <td>1.878846</td>\n",
       "      <td>-1.273981e-13</td>\n",
       "      <td>-0.600677</td>\n",
       "      <td>1.278273</td>\n",
       "      <td>-0.514100</td>\n",
       "      <td>...</td>\n",
       "      <td>-0.623728</td>\n",
       "      <td>0.626139</td>\n",
       "      <td>-0.513574</td>\n",
       "      <td>1.257450</td>\n",
       "      <td>0.956526</td>\n",
       "      <td>-0.517123</td>\n",
       "      <td>0.506135</td>\n",
       "      <td>1.663864</td>\n",
       "      <td>1.212546</td>\n",
       "      <td>4.263256e-13</td>\n",
       "    </tr>\n",
       "    <tr>\n",
       "      <th>2</th>\n",
       "      <td>5.7</td>\n",
       "      <td>8</td>\n",
       "      <td>18</td>\n",
       "      <td>0</td>\n",
       "      <td>0.914194</td>\n",
       "      <td>-0.377609</td>\n",
       "      <td>-6.183942e-14</td>\n",
       "      <td>1.185880</td>\n",
       "      <td>0.003999</td>\n",
       "      <td>0.577272</td>\n",
       "      <td>...</td>\n",
       "      <td>1.262003</td>\n",
       "      <td>0.270707</td>\n",
       "      <td>0.646762</td>\n",
       "      <td>-0.409884</td>\n",
       "      <td>0.200604</td>\n",
       "      <td>0.557731</td>\n",
       "      <td>-0.193578</td>\n",
       "      <td>-0.382919</td>\n",
       "      <td>-0.073011</td>\n",
       "      <td>4.298784e-13</td>\n",
       "    </tr>\n",
       "    <tr>\n",
       "      <th>3</th>\n",
       "      <td>7.7</td>\n",
       "      <td>4</td>\n",
       "      <td>21</td>\n",
       "      <td>4</td>\n",
       "      <td>-0.541042</td>\n",
       "      <td>-0.316858</td>\n",
       "      <td>3.552714e-15</td>\n",
       "      <td>-0.600677</td>\n",
       "      <td>-0.547070</td>\n",
       "      <td>-0.512641</td>\n",
       "      <td>...</td>\n",
       "      <td>-0.623728</td>\n",
       "      <td>-0.641979</td>\n",
       "      <td>-0.512742</td>\n",
       "      <td>-0.468091</td>\n",
       "      <td>-0.233355</td>\n",
       "      <td>-0.514305</td>\n",
       "      <td>-0.192686</td>\n",
       "      <td>-0.298870</td>\n",
       "      <td>-0.030280</td>\n",
       "      <td>4.333200e-13</td>\n",
       "    </tr>\n",
       "    <tr>\n",
       "      <th>4</th>\n",
       "      <td>5.3</td>\n",
       "      <td>3</td>\n",
       "      <td>9</td>\n",
       "      <td>7</td>\n",
       "      <td>-0.541042</td>\n",
       "      <td>-0.023812</td>\n",
       "      <td>-1.273981e-13</td>\n",
       "      <td>-0.600677</td>\n",
       "      <td>-0.326710</td>\n",
       "      <td>-0.514100</td>\n",
       "      <td>...</td>\n",
       "      <td>-0.623728</td>\n",
       "      <td>-0.511800</td>\n",
       "      <td>-0.513574</td>\n",
       "      <td>-0.409645</td>\n",
       "      <td>-0.041577</td>\n",
       "      <td>-0.517123</td>\n",
       "      <td>-0.186034</td>\n",
       "      <td>0.091814</td>\n",
       "      <td>0.155342</td>\n",
       "      <td>4.263256e-13</td>\n",
       "    </tr>\n",
       "  </tbody>\n",
       "</table>\n",
       "<p>5 rows × 23 columns</p>\n",
       "</div>"
      ],
      "text/plain": [
       "   fare_amount  month  day  hour         0         1             2         3  \\\n",
       "0          4.5      6   15    17 -0.541042 -1.053236 -1.930678e-13 -0.600677   \n",
       "1         16.9      1    5    16 -0.541042  1.878846 -1.273981e-13 -0.600677   \n",
       "2          5.7      8   18     0  0.914194 -0.377609 -6.183942e-14  1.185880   \n",
       "3          7.7      4   21     4 -0.541042 -0.316858  3.552714e-15 -0.600677   \n",
       "4          5.3      3    9     7 -0.541042 -0.023812 -1.273981e-13 -0.600677   \n",
       "\n",
       "          4         5  ...         9        10        11        12        13  \\\n",
       "0 -1.081936 -0.514831  ... -0.623728 -0.941961 -0.513990 -0.538653 -0.983503   \n",
       "1  1.278273 -0.514100  ... -0.623728  0.626139 -0.513574  1.257450  0.956526   \n",
       "2  0.003999  0.577272  ...  1.262003  0.270707  0.646762 -0.409884  0.200604   \n",
       "3 -0.547070 -0.512641  ... -0.623728 -0.641979 -0.512742 -0.468091 -0.233355   \n",
       "4 -0.326710 -0.514100  ... -0.623728 -0.511800 -0.513574 -0.409645 -0.041577   \n",
       "\n",
       "         14        15        16        17            18  \n",
       "0 -0.518532 -0.197541 -1.184868 -0.717414  4.227729e-13  \n",
       "1 -0.517123  0.506135  1.663864  1.212546  4.263256e-13  \n",
       "2  0.557731 -0.193578 -0.382919 -0.073011  4.298784e-13  \n",
       "3 -0.514305 -0.192686 -0.298870 -0.030280  4.333200e-13  \n",
       "4 -0.517123 -0.186034  0.091814  0.155342  4.263256e-13  \n",
       "\n",
       "[5 rows x 23 columns]"
      ]
     },
     "execution_count": 52,
     "metadata": {},
     "output_type": "execute_result"
    }
   ],
   "source": [
    "## Combine original features and transformed features\n",
    "df_1=pd.concat([df.drop(columns=['passenger_count','distance','year']),df_pow],axis=1)\n",
    "df_1.head()"
   ]
  },
  {
   "cell_type": "code",
   "execution_count": 53,
   "metadata": {},
   "outputs": [],
   "source": [
    "## Define features and target\n",
    "x_1=df_1.drop(columns='fare_amount')\n",
    "y_1=df_1['fare_amount']"
   ]
  },
  {
   "cell_type": "code",
   "execution_count": 54,
   "metadata": {},
   "outputs": [],
   "source": [
    "## Split Data\n",
    "x_train_1,x_test_1,y_train_1,y_test_1=train_test_split(x_1,y_1,train_size=.85,random_state=42)"
   ]
  },
  {
   "cell_type": "code",
   "execution_count": 56,
   "metadata": {},
   "outputs": [],
   "source": [
    "## Build Function to automatically print Evaluation Matrix Score\n",
    "def Eva_Matrix_Base(model,x_train, x_test, y_train, y_test, Nama):\n",
    "    Model = model.fit(x_train, y_train)\n",
    "    y_pred_tr = Model.predict(x_train)\n",
    "    R2_train = r2_score(y_train, y_pred_tr)\n",
    "    MAE_train = mean_absolute_error(y_train, y_pred_tr)\n",
    "    MSE_train = mean_squared_error(y_train, y_pred_tr)\n",
    "    RMSE_train = np.sqrt(MSE_train)\n",
    "    y_pred_ts = Model.predict(x_test)\n",
    "    R2_test = r2_score(y_test, y_pred_ts)\n",
    "    MAE_test = mean_absolute_error(y_test, y_pred_ts)\n",
    "    MSE_test = mean_squared_error(y_test, y_pred_ts)\n",
    "    RMSE_test = np.sqrt(MSE_test)\n",
    "    eva_data = {\n",
    "    \"Training\" + Nama : [R2_train, MAE_train, MSE_train, RMSE_train],\n",
    "    \"Testing\" + Nama : [R2_test, MAE_test, MSE_test, RMSE_test],\n",
    "    }\n",
    "    df = pd.DataFrame(eva_data, index=['R2', 'MAE', 'MSE', 'RMSE'])\n",
    "    \n",
    "    return Model, df"
   ]
  },
  {
   "cell_type": "code",
   "execution_count": 61,
   "metadata": {},
   "outputs": [
    {
     "data": {
      "text/html": [
       "<div>\n",
       "<style scoped>\n",
       "    .dataframe tbody tr th:only-of-type {\n",
       "        vertical-align: middle;\n",
       "    }\n",
       "\n",
       "    .dataframe tbody tr th {\n",
       "        vertical-align: top;\n",
       "    }\n",
       "\n",
       "    .dataframe thead th {\n",
       "        text-align: right;\n",
       "    }\n",
       "</style>\n",
       "<table border=\"1\" class=\"dataframe\">\n",
       "  <thead>\n",
       "    <tr style=\"text-align: right;\">\n",
       "      <th></th>\n",
       "      <th>TrainingLinReg 2</th>\n",
       "      <th>TestingLinReg 2</th>\n",
       "    </tr>\n",
       "  </thead>\n",
       "  <tbody>\n",
       "    <tr>\n",
       "      <th>R2</th>\n",
       "      <td>0.50</td>\n",
       "      <td>0.51</td>\n",
       "    </tr>\n",
       "    <tr>\n",
       "      <th>MAE</th>\n",
       "      <td>3.58</td>\n",
       "      <td>3.44</td>\n",
       "    </tr>\n",
       "    <tr>\n",
       "      <th>MSE</th>\n",
       "      <td>46.28</td>\n",
       "      <td>41.34</td>\n",
       "    </tr>\n",
       "    <tr>\n",
       "      <th>RMSE</th>\n",
       "      <td>6.80</td>\n",
       "      <td>6.43</td>\n",
       "    </tr>\n",
       "  </tbody>\n",
       "</table>\n",
       "</div>"
      ],
      "text/plain": [
       "      TrainingLinReg 2  TestingLinReg 2\n",
       "R2                0.50             0.51\n",
       "MAE               3.58             3.44\n",
       "MSE              46.28            41.34\n",
       "RMSE              6.80             6.43"
      ]
     },
     "execution_count": 61,
     "metadata": {},
     "output_type": "execute_result"
    }
   ],
   "source": [
    "## Build Model\n",
    "model, df_LinReg2 = Eva_Matrix_Base(LinearRegression(fit_intercept=False),\n",
    "                            x_train_1, x_test_1, y_train_1, y_test_1,\n",
    "                            \"LinReg 2\")\n",
    "df_LinReg2.round(2)"
   ]
  },
  {
   "cell_type": "markdown",
   "metadata": {},
   "source": [
    "### 4.2 Using Feature Engineering + Others Algorithm"
   ]
  },
  {
   "cell_type": "code",
   "execution_count": 60,
   "metadata": {},
   "outputs": [
    {
     "data": {
      "text/html": [
       "<div>\n",
       "<style scoped>\n",
       "    .dataframe tbody tr th:only-of-type {\n",
       "        vertical-align: middle;\n",
       "    }\n",
       "\n",
       "    .dataframe tbody tr th {\n",
       "        vertical-align: top;\n",
       "    }\n",
       "\n",
       "    .dataframe thead th {\n",
       "        text-align: right;\n",
       "    }\n",
       "</style>\n",
       "<table border=\"1\" class=\"dataframe\">\n",
       "  <thead>\n",
       "    <tr style=\"text-align: right;\">\n",
       "      <th></th>\n",
       "      <th>TrainingRidge</th>\n",
       "      <th>TestingRidge</th>\n",
       "    </tr>\n",
       "  </thead>\n",
       "  <tbody>\n",
       "    <tr>\n",
       "      <th>R2</th>\n",
       "      <td>0.49</td>\n",
       "      <td>0.50</td>\n",
       "    </tr>\n",
       "    <tr>\n",
       "      <th>MAE</th>\n",
       "      <td>3.64</td>\n",
       "      <td>3.52</td>\n",
       "    </tr>\n",
       "    <tr>\n",
       "      <th>MSE</th>\n",
       "      <td>47.44</td>\n",
       "      <td>42.62</td>\n",
       "    </tr>\n",
       "    <tr>\n",
       "      <th>RMSE</th>\n",
       "      <td>6.89</td>\n",
       "      <td>6.53</td>\n",
       "    </tr>\n",
       "  </tbody>\n",
       "</table>\n",
       "</div>"
      ],
      "text/plain": [
       "      TrainingRidge  TestingRidge\n",
       "R2             0.49          0.50\n",
       "MAE            3.64          3.52\n",
       "MSE           47.44         42.62\n",
       "RMSE           6.89          6.53"
      ]
     },
     "execution_count": 60,
     "metadata": {},
     "output_type": "execute_result"
    }
   ],
   "source": [
    "## Using Ridge\n",
    "model_R, df_Ridge2 = Eva_Matrix_Base(Ridge(), x_train_1, x_test_1, y_train_1, y_test_1, \"Ridge\")\n",
    "df_Ridge2.round(2)"
   ]
  },
  {
   "cell_type": "code",
   "execution_count": 62,
   "metadata": {},
   "outputs": [
    {
     "data": {
      "text/html": [
       "<div>\n",
       "<style scoped>\n",
       "    .dataframe tbody tr th:only-of-type {\n",
       "        vertical-align: middle;\n",
       "    }\n",
       "\n",
       "    .dataframe tbody tr th {\n",
       "        vertical-align: top;\n",
       "    }\n",
       "\n",
       "    .dataframe thead th {\n",
       "        text-align: right;\n",
       "    }\n",
       "</style>\n",
       "<table border=\"1\" class=\"dataframe\">\n",
       "  <thead>\n",
       "    <tr style=\"text-align: right;\">\n",
       "      <th></th>\n",
       "      <th>TrainingLasso</th>\n",
       "      <th>TestingLasso</th>\n",
       "    </tr>\n",
       "  </thead>\n",
       "  <tbody>\n",
       "    <tr>\n",
       "      <th>R2</th>\n",
       "      <td>0.42</td>\n",
       "      <td>0.43</td>\n",
       "    </tr>\n",
       "    <tr>\n",
       "      <th>MAE</th>\n",
       "      <td>3.90</td>\n",
       "      <td>3.74</td>\n",
       "    </tr>\n",
       "    <tr>\n",
       "      <th>MSE</th>\n",
       "      <td>53.67</td>\n",
       "      <td>48.31</td>\n",
       "    </tr>\n",
       "    <tr>\n",
       "      <th>RMSE</th>\n",
       "      <td>7.33</td>\n",
       "      <td>6.95</td>\n",
       "    </tr>\n",
       "  </tbody>\n",
       "</table>\n",
       "</div>"
      ],
      "text/plain": [
       "      TrainingLasso  TestingLasso\n",
       "R2             0.42          0.43\n",
       "MAE            3.90          3.74\n",
       "MSE           53.67         48.31\n",
       "RMSE           7.33          6.95"
      ]
     },
     "execution_count": 62,
     "metadata": {},
     "output_type": "execute_result"
    }
   ],
   "source": [
    "## Using Lasso\n",
    "model_L, df_Lasso2 = Eva_Matrix_Base(Lasso(), x_train_1, x_test_1, y_train_1, y_test_1, \"Lasso\")\n",
    "df_Lasso2.round(2)"
   ]
  },
  {
   "cell_type": "code",
   "execution_count": 64,
   "metadata": {},
   "outputs": [
    {
     "data": {
      "text/html": [
       "<div>\n",
       "<style scoped>\n",
       "    .dataframe tbody tr th:only-of-type {\n",
       "        vertical-align: middle;\n",
       "    }\n",
       "\n",
       "    .dataframe tbody tr th {\n",
       "        vertical-align: top;\n",
       "    }\n",
       "\n",
       "    .dataframe thead th {\n",
       "        text-align: right;\n",
       "    }\n",
       "</style>\n",
       "<table border=\"1\" class=\"dataframe\">\n",
       "  <thead>\n",
       "    <tr style=\"text-align: right;\">\n",
       "      <th></th>\n",
       "      <th>TrainingEnet</th>\n",
       "      <th>TestingEnet</th>\n",
       "    </tr>\n",
       "  </thead>\n",
       "  <tbody>\n",
       "    <tr>\n",
       "      <th>R2</th>\n",
       "      <td>0.41</td>\n",
       "      <td>0.42</td>\n",
       "    </tr>\n",
       "    <tr>\n",
       "      <th>MAE</th>\n",
       "      <td>3.98</td>\n",
       "      <td>3.82</td>\n",
       "    </tr>\n",
       "    <tr>\n",
       "      <th>MSE</th>\n",
       "      <td>54.49</td>\n",
       "      <td>49.42</td>\n",
       "    </tr>\n",
       "    <tr>\n",
       "      <th>RMSE</th>\n",
       "      <td>7.38</td>\n",
       "      <td>7.03</td>\n",
       "    </tr>\n",
       "  </tbody>\n",
       "</table>\n",
       "</div>"
      ],
      "text/plain": [
       "      TrainingEnet  TestingEnet\n",
       "R2            0.41         0.42\n",
       "MAE           3.98         3.82\n",
       "MSE          54.49        49.42\n",
       "RMSE          7.38         7.03"
      ]
     },
     "execution_count": 64,
     "metadata": {},
     "output_type": "execute_result"
    }
   ],
   "source": [
    "## Using ElasticNet\n",
    "model_E, df_Enet2 = Eva_Matrix_Base(ElasticNet(), x_train_1, x_test_1, y_train_1, y_test_1, \"Enet\")\n",
    "df_Enet2.round(2)"
   ]
  },
  {
   "cell_type": "code",
   "execution_count": 65,
   "metadata": {},
   "outputs": [
    {
     "data": {
      "text/html": [
       "<div>\n",
       "<style scoped>\n",
       "    .dataframe tbody tr th:only-of-type {\n",
       "        vertical-align: middle;\n",
       "    }\n",
       "\n",
       "    .dataframe tbody tr th {\n",
       "        vertical-align: top;\n",
       "    }\n",
       "\n",
       "    .dataframe thead th {\n",
       "        text-align: right;\n",
       "    }\n",
       "</style>\n",
       "<table border=\"1\" class=\"dataframe\">\n",
       "  <thead>\n",
       "    <tr style=\"text-align: right;\">\n",
       "      <th></th>\n",
       "      <th>R2</th>\n",
       "      <th>MAE</th>\n",
       "      <th>MSE</th>\n",
       "      <th>RMSE</th>\n",
       "    </tr>\n",
       "  </thead>\n",
       "  <tbody>\n",
       "    <tr>\n",
       "      <th>TrainingLinReg 2</th>\n",
       "      <td>0.50</td>\n",
       "      <td>3.58</td>\n",
       "      <td>46.28</td>\n",
       "      <td>6.80</td>\n",
       "    </tr>\n",
       "    <tr>\n",
       "      <th>TestingLinReg 2</th>\n",
       "      <td>0.51</td>\n",
       "      <td>3.44</td>\n",
       "      <td>41.34</td>\n",
       "      <td>6.43</td>\n",
       "    </tr>\n",
       "    <tr>\n",
       "      <th>TrainingRidge</th>\n",
       "      <td>0.49</td>\n",
       "      <td>3.64</td>\n",
       "      <td>47.44</td>\n",
       "      <td>6.89</td>\n",
       "    </tr>\n",
       "    <tr>\n",
       "      <th>TestingRidge</th>\n",
       "      <td>0.50</td>\n",
       "      <td>3.52</td>\n",
       "      <td>42.62</td>\n",
       "      <td>6.53</td>\n",
       "    </tr>\n",
       "    <tr>\n",
       "      <th>TrainingLasso</th>\n",
       "      <td>0.42</td>\n",
       "      <td>3.90</td>\n",
       "      <td>53.67</td>\n",
       "      <td>7.33</td>\n",
       "    </tr>\n",
       "    <tr>\n",
       "      <th>TestingLasso</th>\n",
       "      <td>0.43</td>\n",
       "      <td>3.74</td>\n",
       "      <td>48.31</td>\n",
       "      <td>6.95</td>\n",
       "    </tr>\n",
       "    <tr>\n",
       "      <th>TrainingEnet</th>\n",
       "      <td>0.41</td>\n",
       "      <td>3.98</td>\n",
       "      <td>54.49</td>\n",
       "      <td>7.38</td>\n",
       "    </tr>\n",
       "    <tr>\n",
       "      <th>TestingEnet</th>\n",
       "      <td>0.42</td>\n",
       "      <td>3.82</td>\n",
       "      <td>49.42</td>\n",
       "      <td>7.03</td>\n",
       "    </tr>\n",
       "  </tbody>\n",
       "</table>\n",
       "</div>"
      ],
      "text/plain": [
       "                    R2   MAE    MSE  RMSE\n",
       "TrainingLinReg 2  0.50  3.58  46.28  6.80\n",
       "TestingLinReg 2   0.51  3.44  41.34  6.43\n",
       "TrainingRidge     0.49  3.64  47.44  6.89\n",
       "TestingRidge      0.50  3.52  42.62  6.53\n",
       "TrainingLasso     0.42  3.90  53.67  7.33\n",
       "TestingLasso      0.43  3.74  48.31  6.95\n",
       "TrainingEnet      0.41  3.98  54.49  7.38\n",
       "TestingEnet       0.42  3.82  49.42  7.03"
      ]
     },
     "execution_count": 65,
     "metadata": {},
     "output_type": "execute_result"
    }
   ],
   "source": [
    "pd.concat([df_LinReg2, df_Ridge2, df_Lasso2, df_Enet2], axis=1).T.round(2)"
   ]
  },
  {
   "cell_type": "markdown",
   "metadata": {},
   "source": [
    "### 4.3 Using Manual Tuning"
   ]
  },
  {
   "cell_type": "code",
   "execution_count": 66,
   "metadata": {},
   "outputs": [],
   "source": [
    "## Determine alpha(s)\n",
    "Alpha = np.arange(0, 0.2, 0.0001)"
   ]
  },
  {
   "cell_type": "code",
   "execution_count": 67,
   "metadata": {},
   "outputs": [],
   "source": [
    "## Build function to store train and test R-Squared score for visualization\n",
    "def Manual_Tune(Alpha, x_train, x_test, y_train, y_test, Model):\n",
    "    train_r = []\n",
    "    test_r = []\n",
    "    \n",
    "    for i in Alpha:\n",
    "        model_R = Model(alpha=i)\n",
    "        model_R.fit(x_train, y_train)\n",
    "        y_pred_tr = model_R.predict(x_train)\n",
    "        R2_train = r2_score(y_train, y_pred_tr)\n",
    "        train_r.append(R2_train)\n",
    "        y_pred_ts = model_R.predict(x_test)\n",
    "        R2_test = r2_score(y_test, y_pred_ts)\n",
    "        test_r.append(R2_test)\n",
    "    return train_r, test_r"
   ]
  },
  {
   "cell_type": "code",
   "execution_count": 69,
   "metadata": {},
   "outputs": [],
   "source": [
    "## Run function for Ridge\n",
    "train_ridge, test_ridge = Manual_Tune(Alpha, x_train_1, x_test_1, y_train_1, y_test_1, Ridge)"
   ]
  },
  {
   "cell_type": "code",
   "execution_count": 70,
   "metadata": {},
   "outputs": [
    {
     "data": {
      "image/png": "[encoded data removed]",
      "text/plain": [
       "<Figure size 576x504 with 1 Axes>"
      ]
     },
     "metadata": {
      "needs_background": "light"
     },
     "output_type": "display_data"
    }
   ],
   "source": [
    "## Ridge Manual Tuning Visualization\n",
    "plt.figure(figsize=(8,7))\n",
    "plt.plot(Alpha, train_ridge, 'r*-')\n",
    "plt.plot(Alpha, test_ridge, 'b*-')\n",
    "plt.legend(['Train R2', 'Test R2'])\n",
    "plt.title(\"Manual Tuning Ridge + Feature Engineering\")\n",
    "plt.xlabel(\"Alpha\")\n",
    "plt.ylabel(\"R-Squared Score\")\n",
    "plt.show()"
   ]
  },
  {
   "cell_type": "code",
   "execution_count": 71,
   "metadata": {},
   "outputs": [],
   "source": [
    "## Run function for Lasso\n",
    "train_Lasso, test_Lasso = Manual_Tune(Alpha, x_train_1, x_test_1, y_train_1, y_test_1, Lasso)"
   ]
  },
  {
   "cell_type": "code",
   "execution_count": 73,
   "metadata": {},
   "outputs": [
    {
     "data": {
      "image/png": "[encoded data removed]",
      "text/plain": [
       "<Figure size 576x504 with 1 Axes>"
      ]
     },
     "metadata": {
      "needs_background": "light"
     },
     "output_type": "display_data"
    }
   ],
   "source": [
    "## Lasso Manual Tuning Visualization\n",
    "plt.figure(figsize=(8,7))\n",
    "plt.plot(Alpha, train_Lasso, 'r*-')\n",
    "plt.plot(Alpha, test_Lasso, 'b*-')\n",
    "plt.legend(['Train R2', 'Test R2'])\n",
    "plt.title(\"Manual Tuning Lasso + Feature Engineering\")\n",
    "plt.xlabel(\"Alpha\")\n",
    "plt.ylabel(\"R-Squared Score\")\n",
    "plt.show()"
   ]
  },
  {
   "cell_type": "code",
   "execution_count": 74,
   "metadata": {},
   "outputs": [],
   "source": [
    "## Determine new alpha(s) for ElasticNet\n",
    "beta = np.arange(0, 5, 0.001)"
   ]
  },
  {
   "cell_type": "code",
   "execution_count": 75,
   "metadata": {},
   "outputs": [],
   "source": [
    "## Run function for ElasticNet using beta\n",
    "train_Enet, test_Enet = Manual_Tune(beta, x_train_1, x_test_1, y_train_1, y_test_1, ElasticNet)"
   ]
  },
  {
   "cell_type": "code",
   "execution_count": 76,
   "metadata": {},
   "outputs": [
    {
     "data": {
      "image/png": "[encoded data removed]",
      "text/plain": [
       "<Figure size 576x504 with 1 Axes>"
      ]
     },
     "metadata": {
      "needs_background": "light"
     },
     "output_type": "display_data"
    }
   ],
   "source": [
    "plt.figure(figsize=(8,7))\n",
    "plt.plot(beta, train_Enet, 'r*-')\n",
    "plt.plot(beta, test_Enet, 'b*-')\n",
    "plt.legend(['Train R2', 'Test R2'])\n",
    "plt.title(\"Manual Tuning ElasticNet + Feature Engineering\")\n",
    "plt.xlabel(\"Alpha\")\n",
    "plt.ylabel(\"R-Squared Score\")\n",
    "plt.show()"
   ]
  },
  {
   "cell_type": "code",
   "execution_count": 77,
   "metadata": {},
   "outputs": [
    {
     "name": "stdout",
     "output_type": "stream",
     "text": [
      "Max R-Squared score for Ridge:  0.5132790584123553\n",
      "Max R-Squared score for Lasso:  0.5129769184571487\n",
      "Max R-Squared score for ElasticNet:  0.5129769184571487\n"
     ]
    }
   ],
   "source": [
    "print('Max R-Squared score for Ridge: ',np.max(test_ridge))\n",
    "print('Max R-Squared score for Lasso: ',np.max(test_Lasso))\n",
    "print('Max R-Squared score for ElasticNet: ',np.max(test_Enet))"
   ]
  },
  {
   "cell_type": "markdown",
   "metadata": {},
   "source": [
    "<hr>\n",
    "\n",
    "## Error Analysis"
   ]
  },
  {
   "cell_type": "code",
   "execution_count": 78,
   "metadata": {},
   "outputs": [],
   "source": [
    "## Copy train features\n",
    "df_Error_T = x_train_1.copy()"
   ]
  },
  {
   "cell_type": "code",
   "execution_count": 79,
   "metadata": {},
   "outputs": [
    {
     "data": {
      "text/html": [
       "<div>\n",
       "<style scoped>\n",
       "    .dataframe tbody tr th:only-of-type {\n",
       "        vertical-align: middle;\n",
       "    }\n",
       "\n",
       "    .dataframe tbody tr th {\n",
       "        vertical-align: top;\n",
       "    }\n",
       "\n",
       "    .dataframe thead th {\n",
       "        text-align: right;\n",
       "    }\n",
       "</style>\n",
       "<table border=\"1\" class=\"dataframe\">\n",
       "  <thead>\n",
       "    <tr style=\"text-align: right;\">\n",
       "      <th></th>\n",
       "      <th>month</th>\n",
       "      <th>day</th>\n",
       "      <th>hour</th>\n",
       "      <th>0</th>\n",
       "      <th>1</th>\n",
       "      <th>2</th>\n",
       "      <th>3</th>\n",
       "      <th>4</th>\n",
       "      <th>5</th>\n",
       "      <th>6</th>\n",
       "      <th>...</th>\n",
       "      <th>9</th>\n",
       "      <th>10</th>\n",
       "      <th>11</th>\n",
       "      <th>12</th>\n",
       "      <th>13</th>\n",
       "      <th>14</th>\n",
       "      <th>15</th>\n",
       "      <th>16</th>\n",
       "      <th>17</th>\n",
       "      <th>18</th>\n",
       "    </tr>\n",
       "  </thead>\n",
       "  <tbody>\n",
       "    <tr>\n",
       "      <th>2760</th>\n",
       "      <td>11</td>\n",
       "      <td>5</td>\n",
       "      <td>0</td>\n",
       "      <td>1.486464</td>\n",
       "      <td>0.398102</td>\n",
       "      <td>1.339484e-13</td>\n",
       "      <td>1.621540</td>\n",
       "      <td>1.361174</td>\n",
       "      <td>1.290893</td>\n",
       "      <td>-0.173363</td>\n",
       "      <td>...</td>\n",
       "      <td>1.650726</td>\n",
       "      <td>1.836283</td>\n",
       "      <td>1.326778</td>\n",
       "      <td>0.219215</td>\n",
       "      <td>1.008321</td>\n",
       "      <td>1.284311</td>\n",
       "      <td>-0.165234</td>\n",
       "      <td>0.585840</td>\n",
       "      <td>0.397484</td>\n",
       "      <td>4.403145e-13</td>\n",
       "    </tr>\n",
       "    <tr>\n",
       "      <th>13436</th>\n",
       "      <td>1</td>\n",
       "      <td>8</td>\n",
       "      <td>11</td>\n",
       "      <td>-0.541042</td>\n",
       "      <td>1.402966</td>\n",
       "      <td>1.990075e-13</td>\n",
       "      <td>-0.600677</td>\n",
       "      <td>0.836347</td>\n",
       "      <td>-0.510453</td>\n",
       "      <td>0.742482</td>\n",
       "      <td>...</td>\n",
       "      <td>-0.623728</td>\n",
       "      <td>0.266931</td>\n",
       "      <td>-0.511496</td>\n",
       "      <td>0.451858</td>\n",
       "      <td>0.702968</td>\n",
       "      <td>-0.510080</td>\n",
       "      <td>0.060335</td>\n",
       "      <td>1.399278</td>\n",
       "      <td>0.931242</td>\n",
       "      <td>4.438672e-13</td>\n",
       "    </tr>\n",
       "    <tr>\n",
       "      <th>5746</th>\n",
       "      <td>10</td>\n",
       "      <td>2</td>\n",
       "      <td>10</td>\n",
       "      <td>-0.541042</td>\n",
       "      <td>-0.510040</td>\n",
       "      <td>-6.183942e-14</td>\n",
       "      <td>-0.600677</td>\n",
       "      <td>-0.689840</td>\n",
       "      <td>-0.513370</td>\n",
       "      <td>-0.442731</td>\n",
       "      <td>...</td>\n",
       "      <td>-0.623728</td>\n",
       "      <td>-0.724143</td>\n",
       "      <td>-0.513158</td>\n",
       "      <td>-0.495711</td>\n",
       "      <td>-0.380397</td>\n",
       "      <td>-0.515713</td>\n",
       "      <td>-0.195099</td>\n",
       "      <td>-0.564949</td>\n",
       "      <td>-0.170137</td>\n",
       "      <td>4.298784e-13</td>\n",
       "    </tr>\n",
       "    <tr>\n",
       "      <th>5998</th>\n",
       "      <td>12</td>\n",
       "      <td>21</td>\n",
       "      <td>22</td>\n",
       "      <td>-0.541042</td>\n",
       "      <td>1.104164</td>\n",
       "      <td>1.339484e-13</td>\n",
       "      <td>-0.600677</td>\n",
       "      <td>0.576665</td>\n",
       "      <td>-0.511182</td>\n",
       "      <td>0.353108</td>\n",
       "      <td>...</td>\n",
       "      <td>-0.623728</td>\n",
       "      <td>0.076120</td>\n",
       "      <td>-0.511911</td>\n",
       "      <td>0.142354</td>\n",
       "      <td>0.554207</td>\n",
       "      <td>-0.511488</td>\n",
       "      <td>-0.055877</td>\n",
       "      <td>1.200967</td>\n",
       "      <td>0.769368</td>\n",
       "      <td>4.403145e-13</td>\n",
       "    </tr>\n",
       "    <tr>\n",
       "      <th>6896</th>\n",
       "      <td>9</td>\n",
       "      <td>3</td>\n",
       "      <td>17</td>\n",
       "      <td>2.048708</td>\n",
       "      <td>-0.420993</td>\n",
       "      <td>1.339484e-13</td>\n",
       "      <td>1.850170</td>\n",
       "      <td>1.305313</td>\n",
       "      <td>2.646804</td>\n",
       "      <td>-0.428121</td>\n",
       "      <td>...</td>\n",
       "      <td>1.821082</td>\n",
       "      <td>2.155690</td>\n",
       "      <td>2.487433</td>\n",
       "      <td>-0.182675</td>\n",
       "      <td>0.974306</td>\n",
       "      <td>2.703028</td>\n",
       "      <td>-0.194136</td>\n",
       "      <td>-0.441866</td>\n",
       "      <td>-0.102070</td>\n",
       "      <td>4.403145e-13</td>\n",
       "    </tr>\n",
       "  </tbody>\n",
       "</table>\n",
       "<p>5 rows × 22 columns</p>\n",
       "</div>"
      ],
      "text/plain": [
       "       month  day  hour         0         1             2         3         4  \\\n",
       "2760      11    5     0  1.486464  0.398102  1.339484e-13  1.621540  1.361174   \n",
       "13436      1    8    11 -0.541042  1.402966  1.990075e-13 -0.600677  0.836347   \n",
       "5746      10    2    10 -0.541042 -0.510040 -6.183942e-14 -0.600677 -0.689840   \n",
       "5998      12   21    22 -0.541042  1.104164  1.339484e-13 -0.600677  0.576665   \n",
       "6896       9    3    17  2.048708 -0.420993  1.339484e-13  1.850170  1.305313   \n",
       "\n",
       "              5         6  ...         9        10        11        12  \\\n",
       "2760   1.290893 -0.173363  ...  1.650726  1.836283  1.326778  0.219215   \n",
       "13436 -0.510453  0.742482  ... -0.623728  0.266931 -0.511496  0.451858   \n",
       "5746  -0.513370 -0.442731  ... -0.623728 -0.724143 -0.513158 -0.495711   \n",
       "5998  -0.511182  0.353108  ... -0.623728  0.076120 -0.511911  0.142354   \n",
       "6896   2.646804 -0.428121  ...  1.821082  2.155690  2.487433 -0.182675   \n",
       "\n",
       "             13        14        15        16        17            18  \n",
       "2760   1.008321  1.284311 -0.165234  0.585840  0.397484  4.403145e-13  \n",
       "13436  0.702968 -0.510080  0.060335  1.399278  0.931242  4.438672e-13  \n",
       "5746  -0.380397 -0.515713 -0.195099 -0.564949 -0.170137  4.298784e-13  \n",
       "5998   0.554207 -0.511488 -0.055877  1.200967  0.769368  4.403145e-13  \n",
       "6896   0.974306  2.703028 -0.194136 -0.441866 -0.102070  4.403145e-13  \n",
       "\n",
       "[5 rows x 22 columns]"
      ]
     },
     "execution_count": 79,
     "metadata": {},
     "output_type": "execute_result"
    }
   ],
   "source": [
    "## Show train features\n",
    "df_Error_T.head()"
   ]
  },
  {
   "cell_type": "code",
   "execution_count": 80,
   "metadata": {},
   "outputs": [],
   "source": [
    "## Add train target as new column\n",
    "df_Error_T['target'] = y_train_1"
   ]
  },
  {
   "cell_type": "code",
   "execution_count": 81,
   "metadata": {},
   "outputs": [],
   "source": [
    "## Determine best Alpha from Manual Tuning\n",
    "best_a = Alpha[np.argmax(test_ridge)]"
   ]
  },
  {
   "cell_type": "code",
   "execution_count": 82,
   "metadata": {},
   "outputs": [],
   "source": [
    "## Build new Model with best Alpha from Manual Tuning\n",
    "Model_R = Ridge(alpha=best_a)"
   ]
  },
  {
   "cell_type": "code",
   "execution_count": 83,
   "metadata": {},
   "outputs": [
    {
     "data": {
      "text/html": [
       "<style>#sk-container-id-2 {color: black;background-color: white;}#sk-container-id-2 pre{padding: 0;}#sk-container-id-2 div.sk-toggleable {background-color: white;}#sk-container-id-2 label.sk-toggleable__label {cursor: pointer;display: block;width: 100%;margin-bottom: 0;padding: 0.3em;box-sizing: border-box;text-align: center;}#sk-container-id-2 label.sk-toggleable__label-arrow:before {content: \"▸\";float: left;margin-right: 0.25em;color: #696969;}#sk-container-id-2 label.sk-toggleable__label-arrow:hover:before {color: black;}#sk-container-id-2 div.sk-estimator:hover label.sk-toggleable__label-arrow:before {color: black;}#sk-container-id-2 div.sk-toggleable__content {max-height: 0;max-width: 0;overflow: hidden;text-align: left;background-color: #f0f8ff;}#sk-container-id-2 div.sk-toggleable__content pre {margin: 0.2em;color: black;border-radius: 0.25em;background-color: #f0f8ff;}#sk-container-id-2 input.sk-toggleable__control:checked~div.sk-toggleable__content {max-height: 200px;max-width: 100%;overflow: auto;}#sk-container-id-2 input.sk-toggleable__control:checked~label.sk-toggleable__label-arrow:before {content: \"▾\";}#sk-container-id-2 div.sk-estimator input.sk-toggleable__control:checked~label.sk-toggleable__label {background-color: #d4ebff;}#sk-container-id-2 div.sk-label input.sk-toggleable__control:checked~label.sk-toggleable__label {background-color: #d4ebff;}#sk-container-id-2 input.sk-hidden--visually {border: 0;clip: rect(1px 1px 1px 1px);clip: rect(1px, 1px, 1px, 1px);height: 1px;margin: -1px;overflow: hidden;padding: 0;position: absolute;width: 1px;}#sk-container-id-2 div.sk-estimator {font-family: monospace;background-color: #f0f8ff;border: 1px dotted black;border-radius: 0.25em;box-sizing: border-box;margin-bottom: 0.5em;}#sk-container-id-2 div.sk-estimator:hover {background-color: #d4ebff;}#sk-container-id-2 div.sk-parallel-item::after {content: \"\";width: 100%;border-bottom: 1px solid gray;flex-grow: 1;}#sk-container-id-2 div.sk-label:hover label.sk-toggleable__label {background-color: #d4ebff;}#sk-container-id-2 div.sk-serial::before {content: \"\";position: absolute;border-left: 1px solid gray;box-sizing: border-box;top: 0;bottom: 0;left: 50%;z-index: 0;}#sk-container-id-2 div.sk-serial {display: flex;flex-direction: column;align-items: center;background-color: white;padding-right: 0.2em;padding-left: 0.2em;position: relative;}#sk-container-id-2 div.sk-item {position: relative;z-index: 1;}#sk-container-id-2 div.sk-parallel {display: flex;align-items: stretch;justify-content: center;background-color: white;position: relative;}#sk-container-id-2 div.sk-item::before, #sk-container-id-2 div.sk-parallel-item::before {content: \"\";position: absolute;border-left: 1px solid gray;box-sizing: border-box;top: 0;bottom: 0;left: 50%;z-index: -1;}#sk-container-id-2 div.sk-parallel-item {display: flex;flex-direction: column;z-index: 1;position: relative;background-color: white;}#sk-container-id-2 div.sk-parallel-item:first-child::after {align-self: flex-end;width: 50%;}#sk-container-id-2 div.sk-parallel-item:last-child::after {align-self: flex-start;width: 50%;}#sk-container-id-2 div.sk-parallel-item:only-child::after {width: 0;}#sk-container-id-2 div.sk-dashed-wrapped {border: 1px dashed gray;margin: 0 0.4em 0.5em 0.4em;box-sizing: border-box;padding-bottom: 0.4em;background-color: white;}#sk-container-id-2 div.sk-label label {font-family: monospace;font-weight: bold;display: inline-block;line-height: 1.2em;}#sk-container-id-2 div.sk-label-container {text-align: center;}#sk-container-id-2 div.sk-container {/* jupyter's `normalize.less` sets `[hidden] { display: none; }` but bootstrap.min.css set `[hidden] { display: none !important; }` so we also need the `!important` here to be able to override the default hidden behavior on the sphinx rendered scikit-learn.org. See: https://github.com/scikit-learn/scikit-learn/issues/21755 */display: inline-block !important;position: relative;}#sk-container-id-2 div.sk-text-repr-fallback {display: none;}</style><div id=\"sk-container-id-2\" class=\"sk-top-container\"><div class=\"sk-text-repr-fallback\"><pre>Ridge(alpha=0.0)</pre><b>In a Jupyter environment, please rerun this cell to show the HTML representation or trust the notebook. <br />On GitHub, the HTML representation is unable to render, please try loading this page with nbviewer.org.</b></div><div class=\"sk-container\" hidden><div class=\"sk-item\"><div class=\"sk-estimator sk-toggleable\"><input class=\"sk-toggleable__control sk-hidden--visually\" id=\"sk-estimator-id-2\" type=\"checkbox\" checked><label for=\"sk-estimator-id-2\" class=\"sk-toggleable__label sk-toggleable__label-arrow\">Ridge</label><div class=\"sk-toggleable__content\"><pre>Ridge(alpha=0.0)</pre></div></div></div></div></div>"
      ],
      "text/plain": [
       "Ridge(alpha=0.0)"
      ]
     },
     "execution_count": 83,
     "metadata": {},
     "output_type": "execute_result"
    }
   ],
   "source": [
    "## Fit Model\n",
    "Model_R.fit(x_train_1, y_train_1)"
   ]
  },
  {
   "cell_type": "code",
   "execution_count": 84,
   "metadata": {},
   "outputs": [],
   "source": [
    "## Predict with new Model\n",
    "pred_train = Model_R.predict(x_train_1)"
   ]
  },
  {
   "cell_type": "code",
   "execution_count": 85,
   "metadata": {},
   "outputs": [],
   "source": [
    "## Add prediction result as new column\n",
    "df_Error_T['prediction'] = pred_train"
   ]
  },
  {
   "cell_type": "code",
   "execution_count": 87,
   "metadata": {},
   "outputs": [],
   "source": [
    "## Add Error Column from difference between actual and predicted target\n",
    "df_Error_T['Error'] = abs(df_Error_T['target'] - df_Error_T['prediction'])"
   ]
  },
  {
   "cell_type": "code",
   "execution_count": 88,
   "metadata": {},
   "outputs": [
    {
     "data": {
      "image/png": "[encoded data removed]",
      "text/plain": [
       "<Figure size 432x288 with 1 Axes>"
      ]
     },
     "metadata": {
      "needs_background": "light"
     },
     "output_type": "display_data"
    }
   ],
   "source": [
    "## Visualization with Histogram to determine distribution of error\n",
    "sns.distplot(df_Error_T['Error'])\n",
    "plt.show()"
   ]
  },
  {
   "cell_type": "code",
   "execution_count": 89,
   "metadata": {},
   "outputs": [
    {
     "data": {
      "image/png": "[encoded data removed]",
      "text/plain": [
       "<Figure size 432x288 with 1 Axes>"
      ]
     },
     "metadata": {
      "needs_background": "light"
     },
     "output_type": "display_data"
    }
   ],
   "source": [
    "## Visualization with Scatterplot to determine relationship of actual target and error\n",
    "plt.scatter(df_Error_T['target'], df_Error_T['Error'])\n",
    "plt.show()"
   ]
  }
 ],
 "metadata": {
  "kernelspec": {
   "display_name": "Python 3.10.5 64-bit (windows store)",
   "language": "python",
   "name": "python3"
  },
  "language_info": {
   "codemirror_mode": {
    "name": "ipython",
    "version": 3
   },
   "file_extension": ".py",
   "mimetype": "text/x-python",
   "name": "python",
   "nbconvert_exporter": "python",
   "pygments_lexer": "ipython3",
   "version": "3.10.5"
  },
  "orig_nbformat": 4,
  "vscode": {
   "interpreter": {
    "hash": "bbdc6700f60de612a9776dd7a4bd392f8898b0d00245e53755bddb2281dd5e23"
   }
  }
 },
 "nbformat": 4,
 "nbformat_minor": 2
}
